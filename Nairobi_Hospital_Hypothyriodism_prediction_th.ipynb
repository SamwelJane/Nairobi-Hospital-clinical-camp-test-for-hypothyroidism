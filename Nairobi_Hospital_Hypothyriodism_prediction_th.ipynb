{
  "nbformat": 4,
  "nbformat_minor": 0,
  "metadata": {
    "colab": {
      "name": "Nairobi Hospital Hypothyriodism prediction th.ipynb",
      "provenance": [],
      "collapsed_sections": [],
      "include_colab_link": true
    },
    "kernelspec": {
      "name": "python3",
      "display_name": "Python 3"
    },
    "accelerator": "GPU"
  },
  "cells": [
    {
      "cell_type": "markdown",
      "metadata": {
        "id": "view-in-github",
        "colab_type": "text"
      },
      "source": [
        "<a href=\"https://colab.research.google.com/github/SamwelJane/Nairobi-Hospital-clinical-camp-test-for-hypothyroidism/blob/master/Nairobi_Hospital_Hypothyriodism_prediction_th.ipynb\" target=\"_parent\"><img src=\"https://colab.research.google.com/assets/colab-badge.svg\" alt=\"Open In Colab\"/></a>"
      ]
    },
    {
      "cell_type": "markdown",
      "metadata": {
        "id": "lqHE7pnj4eyD",
        "colab_type": "text"
      },
      "source": [
        "\n",
        "#  Introduction\n",
        "Nairobi Hospital conducted a clinical camp to test for hypothyroidism.The data was  collected from Thyriod Patient"
      ]
    },
    {
      "cell_type": "markdown",
      "metadata": {
        "id": "WdC9SYTl6GKy",
        "colab_type": "text"
      },
      "source": [
        "# 1.1 Defining the Question\n",
        "Using the data provided , I'm tasked to build a model that determine whether or not  the patient's symptoms indicte that the patient has Hypothroid"
      ]
    },
    {
      "cell_type": "markdown",
      "metadata": {
        "id": "Aqg4RlC56-uC",
        "colab_type": "text"
      },
      "source": [
        "# 1.2 Metrics for Success\n",
        " Optimalize  and come up with  reliable prediction Mode: \n",
        " * That give an accuracy above 80%\n",
        " * Classify the patients  into one groups\n",
        "\n",
        "\n",
        "\n",
        "\n"
      ]
    },
    {
      "cell_type": "markdown",
      "metadata": {
        "id": "twh8nwzgD2UI",
        "colab_type": "text"
      },
      "source": [
        "# 1.3 Context\n",
        "\n",
        "Nairobi Hospital conducted a clinical camp to test for hypothyroidism. The data collected focused on Thyroid patients. Use the healthcare datasets provided to accomplish the following:  \n",
        "\n",
        "Build a model that determines whether or not the patient's symptoms indicate that the patient has hypothyroid.\n",
        "Data source:\n",
        "\n",
        "http://bit.ly/hypothyroid_data"
      ]
    },
    {
      "cell_type": "markdown",
      "metadata": {
        "id": "21Gk_h_f7IPs",
        "colab_type": "text"
      },
      "source": [
        "# 1.4 Experimental design taken¶\n",
        " Perform EDA\n",
        "\n",
        " Perform Feature Engineering\n",
        "\n",
        " Build Models:\n",
        "\n",
        " Part 1: Decision Tree\n",
        " * Random Forest\n",
        " * AdaBoost\n",
        " * Gradient Boosted Tree\n",
        "\n",
        "Part 2: Support Vector Machine(SVM)\n",
        "\n",
        "Perform Hyperparameter Tuning in our Models\n"
      ]
    },
    {
      "cell_type": "markdown",
      "metadata": {
        "id": "6hahN-9Z8jF6",
        "colab_type": "text"
      },
      "source": [
        "# 2.0 Importing Libraries we will use for our Analysis"
      ]
    },
    {
      "cell_type": "code",
      "metadata": {
        "id": "F_zN7X4cDeep",
        "colab_type": "code",
        "colab": {}
      },
      "source": [
        "# Import libraries\n",
        "import pandas as pd\n",
        "import numpy as np\n",
        "import matplotlib.pyplot as plt\n",
        "import seaborn as sns; sns.set(font_scale=1.2)\n",
        "#  import decision tree classifier module from Decision tree librarie\n",
        "from sklearn.ensemble import AdaBoostClassifier\n",
        "from sklearn.tree import DecisionTreeClassifier\n",
        "from sklearn.ensemble import GradientBoostingClassifier\n",
        "from sklearn.model_selection import train_test_split\n",
        "\n",
        "# Import Suport Vector Classifier module from svm library. We'll use SVC to model our data\n",
        "from sklearn.svm import SVC,LinearSVC\n",
        "from sklearn.model_selection import train_test_split\n",
        "# Import scikit-learn metrics module for accuracy calculation\n",
        "from sklearn.metrics import  accuracy_score\n",
        "from sklearn.metrics import confusion_matrix\n"
      ],
      "execution_count": 0,
      "outputs": []
    },
    {
      "cell_type": "markdown",
      "metadata": {
        "id": "70fZZGXiEvoR",
        "colab_type": "text"
      },
      "source": [
        "# 2.1 Viewing our Datasets"
      ]
    },
    {
      "cell_type": "code",
      "metadata": {
        "id": "jzeBn6E4Dqzm",
        "colab_type": "code",
        "colab": {
          "base_uri": "https://localhost:8080/",
          "height": 218
        },
        "outputId": "5078e16a-ee08-4b2a-860d-ef97c8239bdc"
      },
      "source": [
        "#  loading the dataset and previewing the first five rows\n",
        "#  datasource = 'http://bit.ly/hypothyroid_data'\n",
        "#  my daaframe will be called data\n",
        "\n",
        "data = pd.read_csv('http://bit.ly/hypothyroid_data')\n",
        "data.head()"
      ],
      "execution_count": 42,
      "outputs": [
        {
          "output_type": "execute_result",
          "data": {
            "text/html": [
              "<div>\n",
              "<style scoped>\n",
              "    .dataframe tbody tr th:only-of-type {\n",
              "        vertical-align: middle;\n",
              "    }\n",
              "\n",
              "    .dataframe tbody tr th {\n",
              "        vertical-align: top;\n",
              "    }\n",
              "\n",
              "    .dataframe thead th {\n",
              "        text-align: right;\n",
              "    }\n",
              "</style>\n",
              "<table border=\"1\" class=\"dataframe\">\n",
              "  <thead>\n",
              "    <tr style=\"text-align: right;\">\n",
              "      <th></th>\n",
              "      <th>status</th>\n",
              "      <th>age</th>\n",
              "      <th>sex</th>\n",
              "      <th>on_thyroxine</th>\n",
              "      <th>query_on_thyroxine</th>\n",
              "      <th>on_antithyroid_medication</th>\n",
              "      <th>thyroid_surgery</th>\n",
              "      <th>query_hypothyroid</th>\n",
              "      <th>query_hyperthyroid</th>\n",
              "      <th>pregnant</th>\n",
              "      <th>sick</th>\n",
              "      <th>tumor</th>\n",
              "      <th>lithium</th>\n",
              "      <th>goitre</th>\n",
              "      <th>TSH_measured</th>\n",
              "      <th>TSH</th>\n",
              "      <th>T3_measured</th>\n",
              "      <th>T3</th>\n",
              "      <th>TT4_measured</th>\n",
              "      <th>TT4</th>\n",
              "      <th>T4U_measured</th>\n",
              "      <th>T4U</th>\n",
              "      <th>FTI_measured</th>\n",
              "      <th>FTI</th>\n",
              "      <th>TBG_measured</th>\n",
              "      <th>TBG</th>\n",
              "    </tr>\n",
              "  </thead>\n",
              "  <tbody>\n",
              "    <tr>\n",
              "      <th>0</th>\n",
              "      <td>hypothyroid</td>\n",
              "      <td>72</td>\n",
              "      <td>M</td>\n",
              "      <td>f</td>\n",
              "      <td>f</td>\n",
              "      <td>f</td>\n",
              "      <td>f</td>\n",
              "      <td>f</td>\n",
              "      <td>f</td>\n",
              "      <td>f</td>\n",
              "      <td>f</td>\n",
              "      <td>f</td>\n",
              "      <td>f</td>\n",
              "      <td>f</td>\n",
              "      <td>y</td>\n",
              "      <td>30</td>\n",
              "      <td>y</td>\n",
              "      <td>0.60</td>\n",
              "      <td>y</td>\n",
              "      <td>15</td>\n",
              "      <td>y</td>\n",
              "      <td>1.48</td>\n",
              "      <td>y</td>\n",
              "      <td>10</td>\n",
              "      <td>n</td>\n",
              "      <td>?</td>\n",
              "    </tr>\n",
              "    <tr>\n",
              "      <th>1</th>\n",
              "      <td>hypothyroid</td>\n",
              "      <td>15</td>\n",
              "      <td>F</td>\n",
              "      <td>t</td>\n",
              "      <td>f</td>\n",
              "      <td>f</td>\n",
              "      <td>f</td>\n",
              "      <td>f</td>\n",
              "      <td>f</td>\n",
              "      <td>f</td>\n",
              "      <td>f</td>\n",
              "      <td>f</td>\n",
              "      <td>f</td>\n",
              "      <td>f</td>\n",
              "      <td>y</td>\n",
              "      <td>145</td>\n",
              "      <td>y</td>\n",
              "      <td>1.70</td>\n",
              "      <td>y</td>\n",
              "      <td>19</td>\n",
              "      <td>y</td>\n",
              "      <td>1.13</td>\n",
              "      <td>y</td>\n",
              "      <td>17</td>\n",
              "      <td>n</td>\n",
              "      <td>?</td>\n",
              "    </tr>\n",
              "    <tr>\n",
              "      <th>2</th>\n",
              "      <td>hypothyroid</td>\n",
              "      <td>24</td>\n",
              "      <td>M</td>\n",
              "      <td>f</td>\n",
              "      <td>f</td>\n",
              "      <td>f</td>\n",
              "      <td>f</td>\n",
              "      <td>f</td>\n",
              "      <td>f</td>\n",
              "      <td>f</td>\n",
              "      <td>f</td>\n",
              "      <td>f</td>\n",
              "      <td>f</td>\n",
              "      <td>f</td>\n",
              "      <td>y</td>\n",
              "      <td>0</td>\n",
              "      <td>y</td>\n",
              "      <td>0.20</td>\n",
              "      <td>y</td>\n",
              "      <td>4</td>\n",
              "      <td>y</td>\n",
              "      <td>1</td>\n",
              "      <td>y</td>\n",
              "      <td>0</td>\n",
              "      <td>n</td>\n",
              "      <td>?</td>\n",
              "    </tr>\n",
              "    <tr>\n",
              "      <th>3</th>\n",
              "      <td>hypothyroid</td>\n",
              "      <td>24</td>\n",
              "      <td>F</td>\n",
              "      <td>f</td>\n",
              "      <td>f</td>\n",
              "      <td>f</td>\n",
              "      <td>f</td>\n",
              "      <td>f</td>\n",
              "      <td>f</td>\n",
              "      <td>f</td>\n",
              "      <td>f</td>\n",
              "      <td>f</td>\n",
              "      <td>f</td>\n",
              "      <td>f</td>\n",
              "      <td>y</td>\n",
              "      <td>430</td>\n",
              "      <td>y</td>\n",
              "      <td>0.40</td>\n",
              "      <td>y</td>\n",
              "      <td>6</td>\n",
              "      <td>y</td>\n",
              "      <td>1.04</td>\n",
              "      <td>y</td>\n",
              "      <td>6</td>\n",
              "      <td>n</td>\n",
              "      <td>?</td>\n",
              "    </tr>\n",
              "    <tr>\n",
              "      <th>4</th>\n",
              "      <td>hypothyroid</td>\n",
              "      <td>77</td>\n",
              "      <td>M</td>\n",
              "      <td>f</td>\n",
              "      <td>f</td>\n",
              "      <td>f</td>\n",
              "      <td>f</td>\n",
              "      <td>f</td>\n",
              "      <td>f</td>\n",
              "      <td>f</td>\n",
              "      <td>f</td>\n",
              "      <td>f</td>\n",
              "      <td>f</td>\n",
              "      <td>f</td>\n",
              "      <td>y</td>\n",
              "      <td>7.30</td>\n",
              "      <td>y</td>\n",
              "      <td>1.20</td>\n",
              "      <td>y</td>\n",
              "      <td>57</td>\n",
              "      <td>y</td>\n",
              "      <td>1.28</td>\n",
              "      <td>y</td>\n",
              "      <td>44</td>\n",
              "      <td>n</td>\n",
              "      <td>?</td>\n",
              "    </tr>\n",
              "  </tbody>\n",
              "</table>\n",
              "</div>"
            ],
            "text/plain": [
              "        status age sex on_thyroxine  ... FTI_measured FTI TBG_measured TBG\n",
              "0  hypothyroid  72   M            f  ...            y  10            n   ?\n",
              "1  hypothyroid  15   F            t  ...            y  17            n   ?\n",
              "2  hypothyroid  24   M            f  ...            y   0            n   ?\n",
              "3  hypothyroid  24   F            f  ...            y   6            n   ?\n",
              "4  hypothyroid  77   M            f  ...            y  44            n   ?\n",
              "\n",
              "[5 rows x 26 columns]"
            ]
          },
          "metadata": {
            "tags": []
          },
          "execution_count": 42
        }
      ]
    },
    {
      "cell_type": "markdown",
      "metadata": {
        "id": "AD96X-xQQx46",
        "colab_type": "text"
      },
      "source": [
        "# 2.2 Exploratory Data Analysis"
      ]
    },
    {
      "cell_type": "code",
      "metadata": {
        "id": "EfhOBuBOFfeM",
        "colab_type": "code",
        "colab": {
          "base_uri": "https://localhost:8080/",
          "height": 490
        },
        "outputId": "d4e5af17-76d5-4fb4-8e3c-edec4b1f746e"
      },
      "source": [
        "#  listing all columns in our datasets.\n",
        "#  thees will be the variables  that are affectin our target variable which is 'Status'\n",
        "list(data)"
      ],
      "execution_count": 43,
      "outputs": [
        {
          "output_type": "execute_result",
          "data": {
            "text/plain": [
              "['status',\n",
              " 'age',\n",
              " 'sex',\n",
              " 'on_thyroxine',\n",
              " 'query_on_thyroxine',\n",
              " 'on_antithyroid_medication',\n",
              " 'thyroid_surgery',\n",
              " 'query_hypothyroid',\n",
              " 'query_hyperthyroid',\n",
              " 'pregnant',\n",
              " 'sick',\n",
              " 'tumor',\n",
              " 'lithium',\n",
              " 'goitre',\n",
              " 'TSH_measured',\n",
              " 'TSH',\n",
              " 'T3_measured',\n",
              " 'T3',\n",
              " 'TT4_measured',\n",
              " 'TT4',\n",
              " 'T4U_measured',\n",
              " 'T4U',\n",
              " 'FTI_measured',\n",
              " 'FTI',\n",
              " 'TBG_measured',\n",
              " 'TBG']"
            ]
          },
          "metadata": {
            "tags": []
          },
          "execution_count": 43
        }
      ]
    },
    {
      "cell_type": "code",
      "metadata": {
        "id": "x_sA96oaQ-A5",
        "colab_type": "code",
        "colab": {
          "base_uri": "https://localhost:8080/",
          "height": 35
        },
        "outputId": "d2d0a4a7-eebd-4f93-9a34-0a293a3ffaa7"
      },
      "source": [
        "#  checking the shape of our dataset\n",
        "data.shape"
      ],
      "execution_count": 44,
      "outputs": [
        {
          "output_type": "execute_result",
          "data": {
            "text/plain": [
              "(3163, 26)"
            ]
          },
          "metadata": {
            "tags": []
          },
          "execution_count": 44
        }
      ]
    },
    {
      "cell_type": "code",
      "metadata": {
        "id": "v2GP8_FLRLJI",
        "colab_type": "code",
        "colab": {}
      },
      "source": [
        ""
      ],
      "execution_count": 0,
      "outputs": []
    },
    {
      "cell_type": "code",
      "metadata": {
        "id": "j2kpgh-zRLHx",
        "colab_type": "code",
        "colab": {}
      },
      "source": [
        ""
      ],
      "execution_count": 0,
      "outputs": []
    },
    {
      "cell_type": "code",
      "metadata": {
        "id": "2PLIU629HGlJ",
        "colab_type": "code",
        "colab": {
          "base_uri": "https://localhost:8080/",
          "height": 581
        },
        "outputId": "842b9dba-e5f9-401b-ff30-da39cd2d38fc"
      },
      "source": [
        "#  checking an overview information about our dataset\n",
        " data.info() \n",
        "#   the dataset has 3163 rows and 26 columns which are our variables"
      ],
      "execution_count": 10,
      "outputs": [
        {
          "output_type": "stream",
          "text": [
            "<class 'pandas.core.frame.DataFrame'>\n",
            "RangeIndex: 3163 entries, 0 to 3162\n",
            "Data columns (total 26 columns):\n",
            "status                       3163 non-null object\n",
            "age                          3163 non-null object\n",
            "sex                          3163 non-null object\n",
            "on_thyroxine                 3163 non-null object\n",
            "query_on_thyroxine           3163 non-null object\n",
            "on_antithyroid_medication    3163 non-null object\n",
            "thyroid_surgery              3163 non-null object\n",
            "query_hypothyroid            3163 non-null object\n",
            "query_hyperthyroid           3163 non-null object\n",
            "pregnant                     3163 non-null object\n",
            "sick                         3163 non-null object\n",
            "tumor                        3163 non-null object\n",
            "lithium                      3163 non-null object\n",
            "goitre                       3163 non-null object\n",
            "TSH_measured                 3163 non-null object\n",
            "TSH                          3163 non-null object\n",
            "T3_measured                  3163 non-null object\n",
            "T3                           3163 non-null object\n",
            "TT4_measured                 3163 non-null object\n",
            "TT4                          3163 non-null object\n",
            "T4U_measured                 3163 non-null object\n",
            "T4U                          3163 non-null object\n",
            "FTI_measured                 3163 non-null object\n",
            "FTI                          3163 non-null object\n",
            "TBG_measured                 3163 non-null object\n",
            "TBG                          3163 non-null object\n",
            "dtypes: object(26)\n",
            "memory usage: 642.6+ KB\n"
          ],
          "name": "stdout"
        }
      ]
    },
    {
      "cell_type": "code",
      "metadata": {
        "id": "K8n0jQbAHY6_",
        "colab_type": "code",
        "colab": {
          "base_uri": "https://localhost:8080/",
          "height": 508
        },
        "outputId": "0f1c3bff-6a78-403f-e56c-2aecee1be494"
      },
      "source": [
        "#  checking datatpyes\n",
        "data.dtypes\n",
        "# all the features in our are in an object format"
      ],
      "execution_count": 11,
      "outputs": [
        {
          "output_type": "execute_result",
          "data": {
            "text/plain": [
              "status                       object\n",
              "age                          object\n",
              "sex                          object\n",
              "on_thyroxine                 object\n",
              "query_on_thyroxine           object\n",
              "on_antithyroid_medication    object\n",
              "thyroid_surgery              object\n",
              "query_hypothyroid            object\n",
              "query_hyperthyroid           object\n",
              "pregnant                     object\n",
              "sick                         object\n",
              "tumor                        object\n",
              "lithium                      object\n",
              "goitre                       object\n",
              "TSH_measured                 object\n",
              "TSH                          object\n",
              "T3_measured                  object\n",
              "T3                           object\n",
              "TT4_measured                 object\n",
              "TT4                          object\n",
              "T4U_measured                 object\n",
              "T4U                          object\n",
              "FTI_measured                 object\n",
              "FTI                          object\n",
              "TBG_measured                 object\n",
              "TBG                          object\n",
              "dtype: object"
            ]
          },
          "metadata": {
            "tags": []
          },
          "execution_count": 11
        }
      ]
    },
    {
      "cell_type": "markdown",
      "metadata": {
        "id": "G7WBB5FQSdl7",
        "colab_type": "text"
      },
      "source": [
        "# 2.2 Feature Engineering"
      ]
    },
    {
      "cell_type": "code",
      "metadata": {
        "id": "MQkmcC_DH5RQ",
        "colab_type": "code",
        "colab": {
          "base_uri": "https://localhost:8080/",
          "height": 35
        },
        "outputId": "bfc73076-12bf-426a-c2d8-c97d7fba633f"
      },
      "source": [
        "#  checking for null values\n",
        "data.isnull().sum().sum()\n",
        "#  the dataset has no values"
      ],
      "execution_count": 32,
      "outputs": [
        {
          "output_type": "execute_result",
          "data": {
            "text/plain": [
              "0"
            ]
          },
          "metadata": {
            "tags": []
          },
          "execution_count": 32
        }
      ]
    },
    {
      "cell_type": "code",
      "metadata": {
        "id": "yBACSOwGJdn7",
        "colab_type": "code",
        "colab": {
          "base_uri": "https://localhost:8080/",
          "height": 35
        },
        "outputId": "2f8a3377-c751-4302-da3f-fda96c3dacce"
      },
      "source": [
        "#  checking for duplicates\n",
        "#  The duplicate   occurs when an exact copy of a record is created as a different entry in the same database.\n",
        "data.duplicated().sum()"
      ],
      "execution_count": 33,
      "outputs": [
        {
          "output_type": "execute_result",
          "data": {
            "text/plain": [
              "77"
            ]
          },
          "metadata": {
            "tags": []
          },
          "execution_count": 33
        }
      ]
    },
    {
      "cell_type": "code",
      "metadata": {
        "id": "b09yS7cqKBUZ",
        "colab_type": "code",
        "colab": {}
      },
      "source": [
        "# I have opted to drop duplicates  in order to avoid redundancies,inconsistencies and complimicing accuracy of our model\n",
        "#  After  removing the duplicate i will call my dataframe df\n",
        "\n",
        "df=data.drop_duplicates(keep=False)\n"
      ],
      "execution_count": 0,
      "outputs": []
    },
    {
      "cell_type": "code",
      "metadata": {
        "id": "KX4VwemPKBR7",
        "colab_type": "code",
        "colab": {
          "base_uri": "https://localhost:8080/",
          "height": 35
        },
        "outputId": "36a719a9-ff2a-43a5-d0d1-8f1ac015547f"
      },
      "source": [
        "# checking the number of feaures I have remained with which is 3010 from the prevous one which was 3163\n",
        "len(df)"
      ],
      "execution_count": 38,
      "outputs": [
        {
          "output_type": "execute_result",
          "data": {
            "text/plain": [
              "3010"
            ]
          },
          "metadata": {
            "tags": []
          },
          "execution_count": 38
        }
      ]
    },
    {
      "cell_type": "code",
      "metadata": {
        "id": "BJBsqHLUKBO1",
        "colab_type": "code",
        "colab": {}
      },
      "source": [
        "#  checking  for null\n",
        "df.isnull().sum()"
      ],
      "execution_count": 0,
      "outputs": []
    },
    {
      "cell_type": "code",
      "metadata": {
        "id": "jEBxAHuYKBKD",
        "colab_type": "code",
        "colab": {}
      },
      "source": [
        "# Spot Check Algorithms\n",
        "models = []\n",
        "models.append(('LR', LogisticRegression(solver='liblinear', multi_class='ovr')))\n",
        "models.append(('LDA', LinearDiscriminantAnalysis()))\n",
        "models.append(('KNN', KNeighborsClassifier()))\n",
        "models.append(('CART', DecisionTreeClassifier()))\n",
        "models.append(('NB', GaussianNB()))\n",
        "models.append(('SVM', SVC(gamma='auto')))\n",
        "# evaluate each model in turn"
      ],
      "execution_count": 0,
      "outputs": []
    }
  ]
}