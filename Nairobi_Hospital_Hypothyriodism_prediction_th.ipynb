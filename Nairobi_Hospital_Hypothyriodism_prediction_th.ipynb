{
  "nbformat": 4,
  "nbformat_minor": 0,
  "metadata": {
    "colab": {
      "name": "Nairobi Hospital Hypothyriodism prediction th.ipynb",
      "provenance": [],
      "collapsed_sections": [],
      "include_colab_link": true
    },
    "kernelspec": {
      "name": "python3",
      "display_name": "Python 3"
    },
    "accelerator": "GPU"
  },
  "cells": [
    {
      "cell_type": "markdown",
      "metadata": {
        "id": "view-in-github",
        "colab_type": "text"
      },
      "source": [
        "<a href=\"https://colab.research.google.com/github/SamwelJane/Nairobi-Hospital-clinical-camp-test-for-hypothyroidism/blob/master/Nairobi_Hospital_Hypothyriodism_prediction_th.ipynb\" target=\"_parent\"><img src=\"https://colab.research.google.com/assets/colab-badge.svg\" alt=\"Open In Colab\"/></a>"
      ]
    },
    {
      "cell_type": "markdown",
      "metadata": {
        "id": "lqHE7pnj4eyD",
        "colab_type": "text"
      },
      "source": [
        "\n",
        "#  Introduction\n",
        "Nairobi Hospital conducted a clinical camp to test for hypothyroidism.The data was  collected from Thyriod Patient"
      ]
    },
    {
      "cell_type": "markdown",
      "metadata": {
        "id": "WdC9SYTl6GKy",
        "colab_type": "text"
      },
      "source": [
        "# 1.1 Defining the Question\n",
        "Using the data provided , I'm tasked to build a model that determine whether or not  the patient's symptoms indicte that the patient has Hypothroid"
      ]
    },
    {
      "cell_type": "markdown",
      "metadata": {
        "id": "Aqg4RlC56-uC",
        "colab_type": "text"
      },
      "source": [
        "# 1.2 Metrics for Success\n",
        " Optimalize  and come up with  reliable prediction Model \n",
        " * That give an accuracy above 95%\n",
        " * Classify the patients  into two groups\n",
        "\n",
        "\n",
        "\n",
        "\n"
      ]
    },
    {
      "cell_type": "markdown",
      "metadata": {
        "id": "twh8nwzgD2UI",
        "colab_type": "text"
      },
      "source": [
        "# 1.3 Context\n",
        "\n",
        "Nairobi Hospital conducted a clinical camp to test for hypothyroidism. The data collected focused on Thyroid patients. Use the healthcare datasets provided to accomplish the following:  \n",
        "\n",
        "Build a model that determines whether or not the patient's symptoms indicate that the patient has hypothyroid.\n",
        "Data source:\n",
        "\n",
        "http://bit.ly/hypothyroid_data"
      ]
    },
    {
      "cell_type": "markdown",
      "metadata": {
        "id": "21Gk_h_f7IPs",
        "colab_type": "text"
      },
      "source": [
        "# 1.4 Experimental design taken¶\n",
        " Perform EDA\n",
        "\n",
        " Perform Feature Engineering\n",
        "\n",
        " Build Models:\n",
        "\n",
        " Part 1: Decision Tree\n",
        " * Random Forest\n",
        " * AdaBoost\n",
        " * Gradient Boosted Tree\n",
        "\n",
        "Part 2: Support Vector Machine(SVM)\n",
        "\n",
        "Perform Hyperparameter Tuning in our Models\n",
        "\n",
        "Compute accuarcy of each model and the confusion matrix"
      ]
    },
    {
      "cell_type": "markdown",
      "metadata": {
        "id": "6hahN-9Z8jF6",
        "colab_type": "text"
      },
      "source": [
        "# 2.0 Importing Libraries we will use for our Analysis"
      ]
    },
    {
      "cell_type": "code",
      "metadata": {
        "id": "F_zN7X4cDeep",
        "colab_type": "code",
        "colab": {}
      },
      "source": [
        "# Import libraries\n",
        "import pandas as pd\n",
        "import numpy as np\n",
        "import matplotlib.pyplot as plt\n",
        "import seaborn as sns; sns.set(font_scale=1.5)\n",
        "from sklearn.metrics import roc_auc_score\n",
        "\n",
        "# check missing value percentage *(Self Defined Package)\n",
        "#from missing_value.missing_values_table import missing_values_table\n",
        "\n",
        "# Pipeline\n",
        "from sklearn.pipeline import Pipeline\n",
        "\n",
        "# DictVectorizer\n",
        "from sklearn.feature_extraction import DictVectorizer\n",
        "\n",
        "# XGB\n",
        "import xgboost as xgb\n",
        "\n",
        "# cross_val_score\n",
        "from sklearn.model_selection import cross_val_score\n",
        "\n",
        "# DataframeMapper, CategoricalImputer\n",
        "from sklearn_pandas import DataFrameMapper, CategoricalImputer\n",
        "\n",
        "# Imputer\n",
        "from sklearn.preprocessing import Imputer\n",
        "\n",
        "# FeatureUnion\n",
        "from sklearn.pipeline import FeatureUnion\n",
        "\n",
        "# Function Transformer\n",
        "from sklearn.preprocessing import FunctionTransformer\n",
        "\n",
        "# check missing value percentage \n",
        "\n",
        "#  import decision tree classifier module from Decision tree librarie\n",
        "from sklearn.ensemble import AdaBoostClassifier\n",
        "from sklearn.tree import DecisionTreeClassifier\n",
        "from sklearn.ensemble import GradientBoostingClassifier\n",
        "from sklearn.model_selection import train_test_split\n",
        "from sklearn.ensemble import RandomForestClassifier\n",
        "\n",
        "\n",
        "# Import Suport Vector Classifier module from svm library. We'll use SVC to model our data\n",
        "from sklearn.svm import SVC,LinearSVC\n",
        "from sklearn.model_selection import train_test_split\n",
        "# Import scikit-learn metrics module for accuracy calculation\n",
        "from sklearn.metrics import  accuracy_score\n",
        "from sklearn.metrics import confusion_matrix\n"
      ],
      "execution_count": 0,
      "outputs": []
    },
    {
      "cell_type": "markdown",
      "metadata": {
        "id": "70fZZGXiEvoR",
        "colab_type": "text"
      },
      "source": [
        "# 2.1 Viewing our Datasets"
      ]
    },
    {
      "cell_type": "code",
      "metadata": {
        "id": "jzeBn6E4Dqzm",
        "colab_type": "code",
        "outputId": "b538115f-4fed-4ecf-939e-18bcdbc8639c",
        "colab": {
          "base_uri": "https://localhost:8080/",
          "height": 217
        }
      },
      "source": [
        "#  loading the dataset and previewing the first five rows\n",
        "#  datasource = 'http://bit.ly/hypothyroid_data'\n",
        "#  my daaframe will be called data\n",
        "\n",
        "data = pd.read_csv('http://bit.ly/hypothyroid_data')\n",
        "data.head()"
      ],
      "execution_count": 3,
      "outputs": [
        {
          "output_type": "execute_result",
          "data": {
            "text/html": [
              "<div>\n",
              "<style scoped>\n",
              "    .dataframe tbody tr th:only-of-type {\n",
              "        vertical-align: middle;\n",
              "    }\n",
              "\n",
              "    .dataframe tbody tr th {\n",
              "        vertical-align: top;\n",
              "    }\n",
              "\n",
              "    .dataframe thead th {\n",
              "        text-align: right;\n",
              "    }\n",
              "</style>\n",
              "<table border=\"1\" class=\"dataframe\">\n",
              "  <thead>\n",
              "    <tr style=\"text-align: right;\">\n",
              "      <th></th>\n",
              "      <th>status</th>\n",
              "      <th>age</th>\n",
              "      <th>sex</th>\n",
              "      <th>on_thyroxine</th>\n",
              "      <th>query_on_thyroxine</th>\n",
              "      <th>on_antithyroid_medication</th>\n",
              "      <th>thyroid_surgery</th>\n",
              "      <th>query_hypothyroid</th>\n",
              "      <th>query_hyperthyroid</th>\n",
              "      <th>pregnant</th>\n",
              "      <th>sick</th>\n",
              "      <th>tumor</th>\n",
              "      <th>lithium</th>\n",
              "      <th>goitre</th>\n",
              "      <th>TSH_measured</th>\n",
              "      <th>TSH</th>\n",
              "      <th>T3_measured</th>\n",
              "      <th>T3</th>\n",
              "      <th>TT4_measured</th>\n",
              "      <th>TT4</th>\n",
              "      <th>T4U_measured</th>\n",
              "      <th>T4U</th>\n",
              "      <th>FTI_measured</th>\n",
              "      <th>FTI</th>\n",
              "      <th>TBG_measured</th>\n",
              "      <th>TBG</th>\n",
              "    </tr>\n",
              "  </thead>\n",
              "  <tbody>\n",
              "    <tr>\n",
              "      <th>0</th>\n",
              "      <td>hypothyroid</td>\n",
              "      <td>72</td>\n",
              "      <td>M</td>\n",
              "      <td>f</td>\n",
              "      <td>f</td>\n",
              "      <td>f</td>\n",
              "      <td>f</td>\n",
              "      <td>f</td>\n",
              "      <td>f</td>\n",
              "      <td>f</td>\n",
              "      <td>f</td>\n",
              "      <td>f</td>\n",
              "      <td>f</td>\n",
              "      <td>f</td>\n",
              "      <td>y</td>\n",
              "      <td>30</td>\n",
              "      <td>y</td>\n",
              "      <td>0.60</td>\n",
              "      <td>y</td>\n",
              "      <td>15</td>\n",
              "      <td>y</td>\n",
              "      <td>1.48</td>\n",
              "      <td>y</td>\n",
              "      <td>10</td>\n",
              "      <td>n</td>\n",
              "      <td>?</td>\n",
              "    </tr>\n",
              "    <tr>\n",
              "      <th>1</th>\n",
              "      <td>hypothyroid</td>\n",
              "      <td>15</td>\n",
              "      <td>F</td>\n",
              "      <td>t</td>\n",
              "      <td>f</td>\n",
              "      <td>f</td>\n",
              "      <td>f</td>\n",
              "      <td>f</td>\n",
              "      <td>f</td>\n",
              "      <td>f</td>\n",
              "      <td>f</td>\n",
              "      <td>f</td>\n",
              "      <td>f</td>\n",
              "      <td>f</td>\n",
              "      <td>y</td>\n",
              "      <td>145</td>\n",
              "      <td>y</td>\n",
              "      <td>1.70</td>\n",
              "      <td>y</td>\n",
              "      <td>19</td>\n",
              "      <td>y</td>\n",
              "      <td>1.13</td>\n",
              "      <td>y</td>\n",
              "      <td>17</td>\n",
              "      <td>n</td>\n",
              "      <td>?</td>\n",
              "    </tr>\n",
              "    <tr>\n",
              "      <th>2</th>\n",
              "      <td>hypothyroid</td>\n",
              "      <td>24</td>\n",
              "      <td>M</td>\n",
              "      <td>f</td>\n",
              "      <td>f</td>\n",
              "      <td>f</td>\n",
              "      <td>f</td>\n",
              "      <td>f</td>\n",
              "      <td>f</td>\n",
              "      <td>f</td>\n",
              "      <td>f</td>\n",
              "      <td>f</td>\n",
              "      <td>f</td>\n",
              "      <td>f</td>\n",
              "      <td>y</td>\n",
              "      <td>0</td>\n",
              "      <td>y</td>\n",
              "      <td>0.20</td>\n",
              "      <td>y</td>\n",
              "      <td>4</td>\n",
              "      <td>y</td>\n",
              "      <td>1</td>\n",
              "      <td>y</td>\n",
              "      <td>0</td>\n",
              "      <td>n</td>\n",
              "      <td>?</td>\n",
              "    </tr>\n",
              "    <tr>\n",
              "      <th>3</th>\n",
              "      <td>hypothyroid</td>\n",
              "      <td>24</td>\n",
              "      <td>F</td>\n",
              "      <td>f</td>\n",
              "      <td>f</td>\n",
              "      <td>f</td>\n",
              "      <td>f</td>\n",
              "      <td>f</td>\n",
              "      <td>f</td>\n",
              "      <td>f</td>\n",
              "      <td>f</td>\n",
              "      <td>f</td>\n",
              "      <td>f</td>\n",
              "      <td>f</td>\n",
              "      <td>y</td>\n",
              "      <td>430</td>\n",
              "      <td>y</td>\n",
              "      <td>0.40</td>\n",
              "      <td>y</td>\n",
              "      <td>6</td>\n",
              "      <td>y</td>\n",
              "      <td>1.04</td>\n",
              "      <td>y</td>\n",
              "      <td>6</td>\n",
              "      <td>n</td>\n",
              "      <td>?</td>\n",
              "    </tr>\n",
              "    <tr>\n",
              "      <th>4</th>\n",
              "      <td>hypothyroid</td>\n",
              "      <td>77</td>\n",
              "      <td>M</td>\n",
              "      <td>f</td>\n",
              "      <td>f</td>\n",
              "      <td>f</td>\n",
              "      <td>f</td>\n",
              "      <td>f</td>\n",
              "      <td>f</td>\n",
              "      <td>f</td>\n",
              "      <td>f</td>\n",
              "      <td>f</td>\n",
              "      <td>f</td>\n",
              "      <td>f</td>\n",
              "      <td>y</td>\n",
              "      <td>7.30</td>\n",
              "      <td>y</td>\n",
              "      <td>1.20</td>\n",
              "      <td>y</td>\n",
              "      <td>57</td>\n",
              "      <td>y</td>\n",
              "      <td>1.28</td>\n",
              "      <td>y</td>\n",
              "      <td>44</td>\n",
              "      <td>n</td>\n",
              "      <td>?</td>\n",
              "    </tr>\n",
              "  </tbody>\n",
              "</table>\n",
              "</div>"
            ],
            "text/plain": [
              "        status age sex on_thyroxine  ... FTI_measured FTI TBG_measured TBG\n",
              "0  hypothyroid  72   M            f  ...            y  10            n   ?\n",
              "1  hypothyroid  15   F            t  ...            y  17            n   ?\n",
              "2  hypothyroid  24   M            f  ...            y   0            n   ?\n",
              "3  hypothyroid  24   F            f  ...            y   6            n   ?\n",
              "4  hypothyroid  77   M            f  ...            y  44            n   ?\n",
              "\n",
              "[5 rows x 26 columns]"
            ]
          },
          "metadata": {
            "tags": []
          },
          "execution_count": 3
        }
      ]
    },
    {
      "cell_type": "markdown",
      "metadata": {
        "id": "AD96X-xQQx46",
        "colab_type": "text"
      },
      "source": [
        "# 2.2 Exploratory Data Analysis"
      ]
    },
    {
      "cell_type": "code",
      "metadata": {
        "id": "EfhOBuBOFfeM",
        "colab_type": "code",
        "outputId": "204ecee1-5442-4868-b671-34c314279523",
        "colab": {
          "base_uri": "https://localhost:8080/",
          "height": 478
        }
      },
      "source": [
        "#  listing all columns in our datasets.\n",
        "#  thees will be the variables  that are affectin our target variable which is 'Status'\n",
        "list(data)"
      ],
      "execution_count": 4,
      "outputs": [
        {
          "output_type": "execute_result",
          "data": {
            "text/plain": [
              "['status',\n",
              " 'age',\n",
              " 'sex',\n",
              " 'on_thyroxine',\n",
              " 'query_on_thyroxine',\n",
              " 'on_antithyroid_medication',\n",
              " 'thyroid_surgery',\n",
              " 'query_hypothyroid',\n",
              " 'query_hyperthyroid',\n",
              " 'pregnant',\n",
              " 'sick',\n",
              " 'tumor',\n",
              " 'lithium',\n",
              " 'goitre',\n",
              " 'TSH_measured',\n",
              " 'TSH',\n",
              " 'T3_measured',\n",
              " 'T3',\n",
              " 'TT4_measured',\n",
              " 'TT4',\n",
              " 'T4U_measured',\n",
              " 'T4U',\n",
              " 'FTI_measured',\n",
              " 'FTI',\n",
              " 'TBG_measured',\n",
              " 'TBG']"
            ]
          },
          "metadata": {
            "tags": []
          },
          "execution_count": 4
        }
      ]
    },
    {
      "cell_type": "code",
      "metadata": {
        "id": "x_sA96oaQ-A5",
        "colab_type": "code",
        "outputId": "c1b09804-4c55-4bc2-e4dd-2e2ba247f425",
        "colab": {
          "base_uri": "https://localhost:8080/",
          "height": 34
        }
      },
      "source": [
        "#  checking the shape of our dataset\n",
        "data.shape"
      ],
      "execution_count": 5,
      "outputs": [
        {
          "output_type": "execute_result",
          "data": {
            "text/plain": [
              "(3163, 26)"
            ]
          },
          "metadata": {
            "tags": []
          },
          "execution_count": 5
        }
      ]
    },
    {
      "cell_type": "code",
      "metadata": {
        "id": "2PLIU629HGlJ",
        "colab_type": "code",
        "outputId": "786a589a-a393-4dd2-fae9-e24d5fa3081d",
        "colab": {
          "base_uri": "https://localhost:8080/",
          "height": 567
        }
      },
      "source": [
        "#  checking an overview information about our dataset\n",
        " data.info() \n",
        "#   the dataset has 3163 rows and 26 columns which are our variables"
      ],
      "execution_count": 6,
      "outputs": [
        {
          "output_type": "stream",
          "text": [
            "<class 'pandas.core.frame.DataFrame'>\n",
            "RangeIndex: 3163 entries, 0 to 3162\n",
            "Data columns (total 26 columns):\n",
            "status                       3163 non-null object\n",
            "age                          3163 non-null object\n",
            "sex                          3163 non-null object\n",
            "on_thyroxine                 3163 non-null object\n",
            "query_on_thyroxine           3163 non-null object\n",
            "on_antithyroid_medication    3163 non-null object\n",
            "thyroid_surgery              3163 non-null object\n",
            "query_hypothyroid            3163 non-null object\n",
            "query_hyperthyroid           3163 non-null object\n",
            "pregnant                     3163 non-null object\n",
            "sick                         3163 non-null object\n",
            "tumor                        3163 non-null object\n",
            "lithium                      3163 non-null object\n",
            "goitre                       3163 non-null object\n",
            "TSH_measured                 3163 non-null object\n",
            "TSH                          3163 non-null object\n",
            "T3_measured                  3163 non-null object\n",
            "T3                           3163 non-null object\n",
            "TT4_measured                 3163 non-null object\n",
            "TT4                          3163 non-null object\n",
            "T4U_measured                 3163 non-null object\n",
            "T4U                          3163 non-null object\n",
            "FTI_measured                 3163 non-null object\n",
            "FTI                          3163 non-null object\n",
            "TBG_measured                 3163 non-null object\n",
            "TBG                          3163 non-null object\n",
            "dtypes: object(26)\n",
            "memory usage: 642.6+ KB\n"
          ],
          "name": "stdout"
        }
      ]
    },
    {
      "cell_type": "markdown",
      "metadata": {
        "id": "Z5mYqKOwRgXF",
        "colab_type": "text"
      },
      "source": [
        "* All columns  have dtype object.No categorical or numerical columns\n",
        "* Also the dataset has missing values which are indicated by '?'"
      ]
    },
    {
      "cell_type": "markdown",
      "metadata": {
        "id": "l4W86OPRRgQH",
        "colab_type": "text"
      },
      "source": [
        "### Replace '?' with Null\n"
      ]
    },
    {
      "cell_type": "code",
      "metadata": {
        "id": "ozRyodFkSKmk",
        "colab_type": "code",
        "outputId": "7d8cf5a0-7b67-45b6-f958-b184b60828e2",
        "colab": {
          "base_uri": "https://localhost:8080/",
          "height": 367
        }
      },
      "source": [
        " # since pandas doeas does not recorgnise ? as null, the code below hepls us to convert it null\n",
        "  data.replace('?',np.nan,inplace=True)\n",
        "  data.head(10)"
      ],
      "execution_count": 7,
      "outputs": [
        {
          "output_type": "execute_result",
          "data": {
            "text/html": [
              "<div>\n",
              "<style scoped>\n",
              "    .dataframe tbody tr th:only-of-type {\n",
              "        vertical-align: middle;\n",
              "    }\n",
              "\n",
              "    .dataframe tbody tr th {\n",
              "        vertical-align: top;\n",
              "    }\n",
              "\n",
              "    .dataframe thead th {\n",
              "        text-align: right;\n",
              "    }\n",
              "</style>\n",
              "<table border=\"1\" class=\"dataframe\">\n",
              "  <thead>\n",
              "    <tr style=\"text-align: right;\">\n",
              "      <th></th>\n",
              "      <th>status</th>\n",
              "      <th>age</th>\n",
              "      <th>sex</th>\n",
              "      <th>on_thyroxine</th>\n",
              "      <th>query_on_thyroxine</th>\n",
              "      <th>on_antithyroid_medication</th>\n",
              "      <th>thyroid_surgery</th>\n",
              "      <th>query_hypothyroid</th>\n",
              "      <th>query_hyperthyroid</th>\n",
              "      <th>pregnant</th>\n",
              "      <th>sick</th>\n",
              "      <th>tumor</th>\n",
              "      <th>lithium</th>\n",
              "      <th>goitre</th>\n",
              "      <th>TSH_measured</th>\n",
              "      <th>TSH</th>\n",
              "      <th>T3_measured</th>\n",
              "      <th>T3</th>\n",
              "      <th>TT4_measured</th>\n",
              "      <th>TT4</th>\n",
              "      <th>T4U_measured</th>\n",
              "      <th>T4U</th>\n",
              "      <th>FTI_measured</th>\n",
              "      <th>FTI</th>\n",
              "      <th>TBG_measured</th>\n",
              "      <th>TBG</th>\n",
              "    </tr>\n",
              "  </thead>\n",
              "  <tbody>\n",
              "    <tr>\n",
              "      <th>0</th>\n",
              "      <td>hypothyroid</td>\n",
              "      <td>72</td>\n",
              "      <td>M</td>\n",
              "      <td>f</td>\n",
              "      <td>f</td>\n",
              "      <td>f</td>\n",
              "      <td>f</td>\n",
              "      <td>f</td>\n",
              "      <td>f</td>\n",
              "      <td>f</td>\n",
              "      <td>f</td>\n",
              "      <td>f</td>\n",
              "      <td>f</td>\n",
              "      <td>f</td>\n",
              "      <td>y</td>\n",
              "      <td>30</td>\n",
              "      <td>y</td>\n",
              "      <td>0.60</td>\n",
              "      <td>y</td>\n",
              "      <td>15</td>\n",
              "      <td>y</td>\n",
              "      <td>1.48</td>\n",
              "      <td>y</td>\n",
              "      <td>10</td>\n",
              "      <td>n</td>\n",
              "      <td>NaN</td>\n",
              "    </tr>\n",
              "    <tr>\n",
              "      <th>1</th>\n",
              "      <td>hypothyroid</td>\n",
              "      <td>15</td>\n",
              "      <td>F</td>\n",
              "      <td>t</td>\n",
              "      <td>f</td>\n",
              "      <td>f</td>\n",
              "      <td>f</td>\n",
              "      <td>f</td>\n",
              "      <td>f</td>\n",
              "      <td>f</td>\n",
              "      <td>f</td>\n",
              "      <td>f</td>\n",
              "      <td>f</td>\n",
              "      <td>f</td>\n",
              "      <td>y</td>\n",
              "      <td>145</td>\n",
              "      <td>y</td>\n",
              "      <td>1.70</td>\n",
              "      <td>y</td>\n",
              "      <td>19</td>\n",
              "      <td>y</td>\n",
              "      <td>1.13</td>\n",
              "      <td>y</td>\n",
              "      <td>17</td>\n",
              "      <td>n</td>\n",
              "      <td>NaN</td>\n",
              "    </tr>\n",
              "    <tr>\n",
              "      <th>2</th>\n",
              "      <td>hypothyroid</td>\n",
              "      <td>24</td>\n",
              "      <td>M</td>\n",
              "      <td>f</td>\n",
              "      <td>f</td>\n",
              "      <td>f</td>\n",
              "      <td>f</td>\n",
              "      <td>f</td>\n",
              "      <td>f</td>\n",
              "      <td>f</td>\n",
              "      <td>f</td>\n",
              "      <td>f</td>\n",
              "      <td>f</td>\n",
              "      <td>f</td>\n",
              "      <td>y</td>\n",
              "      <td>0</td>\n",
              "      <td>y</td>\n",
              "      <td>0.20</td>\n",
              "      <td>y</td>\n",
              "      <td>4</td>\n",
              "      <td>y</td>\n",
              "      <td>1</td>\n",
              "      <td>y</td>\n",
              "      <td>0</td>\n",
              "      <td>n</td>\n",
              "      <td>NaN</td>\n",
              "    </tr>\n",
              "    <tr>\n",
              "      <th>3</th>\n",
              "      <td>hypothyroid</td>\n",
              "      <td>24</td>\n",
              "      <td>F</td>\n",
              "      <td>f</td>\n",
              "      <td>f</td>\n",
              "      <td>f</td>\n",
              "      <td>f</td>\n",
              "      <td>f</td>\n",
              "      <td>f</td>\n",
              "      <td>f</td>\n",
              "      <td>f</td>\n",
              "      <td>f</td>\n",
              "      <td>f</td>\n",
              "      <td>f</td>\n",
              "      <td>y</td>\n",
              "      <td>430</td>\n",
              "      <td>y</td>\n",
              "      <td>0.40</td>\n",
              "      <td>y</td>\n",
              "      <td>6</td>\n",
              "      <td>y</td>\n",
              "      <td>1.04</td>\n",
              "      <td>y</td>\n",
              "      <td>6</td>\n",
              "      <td>n</td>\n",
              "      <td>NaN</td>\n",
              "    </tr>\n",
              "    <tr>\n",
              "      <th>4</th>\n",
              "      <td>hypothyroid</td>\n",
              "      <td>77</td>\n",
              "      <td>M</td>\n",
              "      <td>f</td>\n",
              "      <td>f</td>\n",
              "      <td>f</td>\n",
              "      <td>f</td>\n",
              "      <td>f</td>\n",
              "      <td>f</td>\n",
              "      <td>f</td>\n",
              "      <td>f</td>\n",
              "      <td>f</td>\n",
              "      <td>f</td>\n",
              "      <td>f</td>\n",
              "      <td>y</td>\n",
              "      <td>7.30</td>\n",
              "      <td>y</td>\n",
              "      <td>1.20</td>\n",
              "      <td>y</td>\n",
              "      <td>57</td>\n",
              "      <td>y</td>\n",
              "      <td>1.28</td>\n",
              "      <td>y</td>\n",
              "      <td>44</td>\n",
              "      <td>n</td>\n",
              "      <td>NaN</td>\n",
              "    </tr>\n",
              "    <tr>\n",
              "      <th>5</th>\n",
              "      <td>hypothyroid</td>\n",
              "      <td>85</td>\n",
              "      <td>F</td>\n",
              "      <td>f</td>\n",
              "      <td>f</td>\n",
              "      <td>f</td>\n",
              "      <td>f</td>\n",
              "      <td>t</td>\n",
              "      <td>f</td>\n",
              "      <td>f</td>\n",
              "      <td>f</td>\n",
              "      <td>f</td>\n",
              "      <td>f</td>\n",
              "      <td>f</td>\n",
              "      <td>y</td>\n",
              "      <td>138</td>\n",
              "      <td>y</td>\n",
              "      <td>1.10</td>\n",
              "      <td>y</td>\n",
              "      <td>27</td>\n",
              "      <td>y</td>\n",
              "      <td>1.19</td>\n",
              "      <td>y</td>\n",
              "      <td>23</td>\n",
              "      <td>n</td>\n",
              "      <td>NaN</td>\n",
              "    </tr>\n",
              "    <tr>\n",
              "      <th>6</th>\n",
              "      <td>hypothyroid</td>\n",
              "      <td>64</td>\n",
              "      <td>F</td>\n",
              "      <td>f</td>\n",
              "      <td>f</td>\n",
              "      <td>f</td>\n",
              "      <td>t</td>\n",
              "      <td>f</td>\n",
              "      <td>f</td>\n",
              "      <td>f</td>\n",
              "      <td>f</td>\n",
              "      <td>f</td>\n",
              "      <td>f</td>\n",
              "      <td>f</td>\n",
              "      <td>y</td>\n",
              "      <td>7.70</td>\n",
              "      <td>y</td>\n",
              "      <td>1.30</td>\n",
              "      <td>y</td>\n",
              "      <td>54</td>\n",
              "      <td>y</td>\n",
              "      <td>0.86</td>\n",
              "      <td>y</td>\n",
              "      <td>63</td>\n",
              "      <td>n</td>\n",
              "      <td>NaN</td>\n",
              "    </tr>\n",
              "    <tr>\n",
              "      <th>7</th>\n",
              "      <td>hypothyroid</td>\n",
              "      <td>72</td>\n",
              "      <td>F</td>\n",
              "      <td>f</td>\n",
              "      <td>f</td>\n",
              "      <td>f</td>\n",
              "      <td>f</td>\n",
              "      <td>f</td>\n",
              "      <td>f</td>\n",
              "      <td>f</td>\n",
              "      <td>f</td>\n",
              "      <td>f</td>\n",
              "      <td>f</td>\n",
              "      <td>f</td>\n",
              "      <td>y</td>\n",
              "      <td>21</td>\n",
              "      <td>y</td>\n",
              "      <td>1.90</td>\n",
              "      <td>y</td>\n",
              "      <td>34</td>\n",
              "      <td>y</td>\n",
              "      <td>1.05</td>\n",
              "      <td>y</td>\n",
              "      <td>32</td>\n",
              "      <td>n</td>\n",
              "      <td>NaN</td>\n",
              "    </tr>\n",
              "    <tr>\n",
              "      <th>8</th>\n",
              "      <td>hypothyroid</td>\n",
              "      <td>20</td>\n",
              "      <td>F</td>\n",
              "      <td>f</td>\n",
              "      <td>f</td>\n",
              "      <td>f</td>\n",
              "      <td>f</td>\n",
              "      <td>t</td>\n",
              "      <td>f</td>\n",
              "      <td>f</td>\n",
              "      <td>f</td>\n",
              "      <td>f</td>\n",
              "      <td>f</td>\n",
              "      <td>f</td>\n",
              "      <td>y</td>\n",
              "      <td>92</td>\n",
              "      <td>n</td>\n",
              "      <td>NaN</td>\n",
              "      <td>y</td>\n",
              "      <td>39</td>\n",
              "      <td>y</td>\n",
              "      <td>1.21</td>\n",
              "      <td>y</td>\n",
              "      <td>32</td>\n",
              "      <td>n</td>\n",
              "      <td>NaN</td>\n",
              "    </tr>\n",
              "    <tr>\n",
              "      <th>9</th>\n",
              "      <td>hypothyroid</td>\n",
              "      <td>42</td>\n",
              "      <td>F</td>\n",
              "      <td>f</td>\n",
              "      <td>f</td>\n",
              "      <td>f</td>\n",
              "      <td>f</td>\n",
              "      <td>f</td>\n",
              "      <td>f</td>\n",
              "      <td>f</td>\n",
              "      <td>f</td>\n",
              "      <td>f</td>\n",
              "      <td>f</td>\n",
              "      <td>f</td>\n",
              "      <td>y</td>\n",
              "      <td>48</td>\n",
              "      <td>n</td>\n",
              "      <td>NaN</td>\n",
              "      <td>y</td>\n",
              "      <td>7.60</td>\n",
              "      <td>y</td>\n",
              "      <td>1.02</td>\n",
              "      <td>y</td>\n",
              "      <td>7.50</td>\n",
              "      <td>n</td>\n",
              "      <td>NaN</td>\n",
              "    </tr>\n",
              "  </tbody>\n",
              "</table>\n",
              "</div>"
            ],
            "text/plain": [
              "        status age sex on_thyroxine  ... FTI_measured   FTI TBG_measured  TBG\n",
              "0  hypothyroid  72   M            f  ...            y    10            n  NaN\n",
              "1  hypothyroid  15   F            t  ...            y    17            n  NaN\n",
              "2  hypothyroid  24   M            f  ...            y     0            n  NaN\n",
              "3  hypothyroid  24   F            f  ...            y     6            n  NaN\n",
              "4  hypothyroid  77   M            f  ...            y    44            n  NaN\n",
              "5  hypothyroid  85   F            f  ...            y    23            n  NaN\n",
              "6  hypothyroid  64   F            f  ...            y    63            n  NaN\n",
              "7  hypothyroid  72   F            f  ...            y    32            n  NaN\n",
              "8  hypothyroid  20   F            f  ...            y    32            n  NaN\n",
              "9  hypothyroid  42   F            f  ...            y  7.50            n  NaN\n",
              "\n",
              "[10 rows x 26 columns]"
            ]
          },
          "metadata": {
            "tags": []
          },
          "execution_count": 7
        }
      ]
    },
    {
      "cell_type": "code",
      "metadata": {
        "id": "IsfZzQk5TAMo",
        "colab_type": "code",
        "colab": {}
      },
      "source": [
        "#  convert to numerical\n",
        "num_cols = ['age','TSH','T3','TT4','T4U','FTI']"
      ],
      "execution_count": 0,
      "outputs": []
    },
    {
      "cell_type": "code",
      "metadata": {
        "id": "v_Knd5YIGvd5",
        "colab_type": "code",
        "colab": {}
      },
      "source": [
        "cate_cols = ['status','sex', 'on_thyroxine', 'query_on_thyroxine','on_antithyroid_medication', 'thyroid_surgery', 'query_hypothyroid',\n",
        "      'query_hyperthyroid', 'pregnant', 'sick', 'tumor', 'lithium', 'goitre','TSH_measured','T3_measured','TT4_measured',\n",
        "      'T4U_measured','FTI_measured','TBG_measured', 'TBG']"
      ],
      "execution_count": 0,
      "outputs": []
    },
    {
      "cell_type": "code",
      "metadata": {
        "id": "CYdrexP16R8w",
        "colab_type": "code",
        "colab": {}
      },
      "source": [
        "# converting   objects to categorical\n",
        "\n",
        "data[cate_cols] = data[cate_cols].astype('category')\n",
        "      "
      ],
      "execution_count": 0,
      "outputs": []
    },
    {
      "cell_type": "code",
      "metadata": {
        "id": "UcQKzxZw6R1C",
        "colab_type": "code",
        "colab": {}
      },
      "source": [
        "#convert  object to numerical\n",
        "data[num_cols] = data[num_cols].apply(pd.to_numeric)"
      ],
      "execution_count": 0,
      "outputs": []
    },
    {
      "cell_type": "code",
      "metadata": {
        "id": "K8n0jQbAHY6_",
        "colab_type": "code",
        "outputId": "9c143012-68c5-46f1-fb31-a1a7edb25e9b",
        "colab": {
          "base_uri": "https://localhost:8080/",
          "height": 496
        }
      },
      "source": [
        "#  checking datatpyes\n",
        "data.dtypes\n",
        "# all the features in our are in an object format"
      ],
      "execution_count": 12,
      "outputs": [
        {
          "output_type": "execute_result",
          "data": {
            "text/plain": [
              "status                       category\n",
              "age                           float64\n",
              "sex                          category\n",
              "on_thyroxine                 category\n",
              "query_on_thyroxine           category\n",
              "on_antithyroid_medication    category\n",
              "thyroid_surgery              category\n",
              "query_hypothyroid            category\n",
              "query_hyperthyroid           category\n",
              "pregnant                     category\n",
              "sick                         category\n",
              "tumor                        category\n",
              "lithium                      category\n",
              "goitre                       category\n",
              "TSH_measured                 category\n",
              "TSH                           float64\n",
              "T3_measured                  category\n",
              "T3                            float64\n",
              "TT4_measured                 category\n",
              "TT4                           float64\n",
              "T4U_measured                 category\n",
              "T4U                           float64\n",
              "FTI_measured                 category\n",
              "FTI                           float64\n",
              "TBG_measured                 category\n",
              "TBG                          category\n",
              "dtype: object"
            ]
          },
          "metadata": {
            "tags": []
          },
          "execution_count": 12
        }
      ]
    },
    {
      "cell_type": "code",
      "metadata": {
        "id": "S8KsxSHqGLhD",
        "colab_type": "code",
        "outputId": "7e3ab0aa-3857-41af-c865-6cf6ae4bdb2e",
        "colab": {
          "base_uri": "https://localhost:8080/",
          "height": 70
        }
      },
      "source": [
        "data['TBG'].unique()"
      ],
      "execution_count": 13,
      "outputs": [
        {
          "output_type": "execute_result",
          "data": {
            "text/plain": [
              "[NaN, 28, 34, 0, 19, ..., 65, 7.30, 8.50, 69, 122]\n",
              "Length: 53\n",
              "Categories (52, object): [28, 34, 0, 19, ..., 7.30, 8.50, 69, 122]"
            ]
          },
          "metadata": {
            "tags": []
          },
          "execution_count": 13
        }
      ]
    },
    {
      "cell_type": "code",
      "metadata": {
        "id": "ssfsy-nkPCRb",
        "colab_type": "code",
        "colab": {}
      },
      "source": [
        "data.columns\n",
        "n =['status', 'age', 'sex', 'on_thyroxine', 'query_on_thyroxine',\n",
        "       'on_antithyroid_medication', 'thyroid_surgery', 'query_hypothyroid',\n",
        "       'query_hyperthyroid', 'pregnant', 'sick', 'tumor', 'lithium', 'goitre',\n",
        "       'TSH_measured', 'TSH', 'T3_measured', 'T3', 'TT4_measured', 'TT4',\n",
        "       'T4U_measured', 'T4U', 'FTI_measured', 'FTI', 'TBG_measured', 'TBG']"
      ],
      "execution_count": 0,
      "outputs": []
    },
    {
      "cell_type": "code",
      "metadata": {
        "id": "sd2GHI3qBlAT",
        "colab_type": "code",
        "outputId": "3c7424c3-6a55-41bc-f22e-896b379d1250",
        "colab": {
          "base_uri": "https://localhost:8080/",
          "height": 496
        }
      },
      "source": [
        "\n",
        "# check the number of unique values per column\n",
        "data[n].apply(lambda x: x.nunique(), axis=0)"
      ],
      "execution_count": 18,
      "outputs": [
        {
          "output_type": "execute_result",
          "data": {
            "text/plain": [
              "status                         2\n",
              "age                           92\n",
              "sex                            2\n",
              "on_thyroxine                   2\n",
              "query_on_thyroxine             2\n",
              "on_antithyroid_medication      2\n",
              "thyroid_surgery                2\n",
              "query_hypothyroid              2\n",
              "query_hyperthyroid             2\n",
              "pregnant                       2\n",
              "sick                           2\n",
              "tumor                          2\n",
              "lithium                        2\n",
              "goitre                         2\n",
              "TSH_measured                   2\n",
              "TSH                          239\n",
              "T3_measured                    2\n",
              "T3                            69\n",
              "TT4_measured                   2\n",
              "TT4                          268\n",
              "T4U_measured                   2\n",
              "T4U                          158\n",
              "FTI_measured                   2\n",
              "FTI                          280\n",
              "TBG_measured                   2\n",
              "TBG                           52\n",
              "dtype: int64"
            ]
          },
          "metadata": {
            "tags": []
          },
          "execution_count": 18
        }
      ]
    },
    {
      "cell_type": "code",
      "metadata": {
        "id": "DPl_4W1FK0Ei",
        "colab_type": "code",
        "outputId": "b290fae0-b69a-4705-98c3-0e7a383d7f86",
        "colab": {
          "base_uri": "https://localhost:8080/",
          "height": 72
        }
      },
      "source": [
        "# define the numerical imputer\n",
        "# Impute null values by replacing them median.\n",
        "impute = Imputer(strategy ='median')\n",
        "data[num_cols] = impute.fit_transform(data[num_cols])"
      ],
      "execution_count": 19,
      "outputs": [
        {
          "output_type": "stream",
          "text": [
            "/usr/local/lib/python3.6/dist-packages/sklearn/utils/deprecation.py:66: DeprecationWarning: Class Imputer is deprecated; Imputer was deprecated in version 0.20 and will be removed in 0.22. Import impute.SimpleImputer from sklearn instead.\n",
            "  warnings.warn(msg, category=DeprecationWarning)\n"
          ],
          "name": "stderr"
        }
      ]
    },
    {
      "cell_type": "code",
      "metadata": {
        "id": "7URuflyXJRLq",
        "colab_type": "code",
        "colab": {}
      },
      "source": [
        "# replace categorical values with mode('most frequent')\n",
        "\n",
        "\n",
        "data['TBG'] = data['TBG'].fillna(data['TBG'].mode()[0])\n",
        "\n",
        "\n",
        "\n",
        "data['sex'] = data['sex'].fillna(data['sex'].mode()[0])"
      ],
      "execution_count": 0,
      "outputs": []
    },
    {
      "cell_type": "code",
      "metadata": {
        "id": "ohEfCRQBDk2C",
        "colab_type": "code",
        "outputId": "36c0304d-894c-4b74-8667-e134be286e9a",
        "colab": {
          "base_uri": "https://localhost:8080/",
          "height": 34
        }
      },
      "source": [
        "#  checking for null values\n",
        "data.isnull().sum().sum()"
      ],
      "execution_count": 23,
      "outputs": [
        {
          "output_type": "execute_result",
          "data": {
            "text/plain": [
              "0"
            ]
          },
          "metadata": {
            "tags": []
          },
          "execution_count": 23
        }
      ]
    },
    {
      "cell_type": "code",
      "metadata": {
        "id": "Wsiox19NPofg",
        "colab_type": "code",
        "outputId": "86781e25-469d-43dc-a0b2-c52573b5ff12",
        "colab": {
          "base_uri": "https://localhost:8080/",
          "height": 52
        }
      },
      "source": [
        "data['status'].unique()"
      ],
      "execution_count": 24,
      "outputs": [
        {
          "output_type": "execute_result",
          "data": {
            "text/plain": [
              "[hypothyroid, negative]\n",
              "Categories (2, object): [hypothyroid, negative]"
            ]
          },
          "metadata": {
            "tags": []
          },
          "execution_count": 24
        }
      ]
    },
    {
      "cell_type": "code",
      "metadata": {
        "id": "ab1o8qmVPCTp",
        "colab_type": "code",
        "outputId": "5bfba01b-e14e-44c3-9aa3-defd395f34e6",
        "colab": {
          "base_uri": "https://localhost:8080/",
          "height": 158
        }
      },
      "source": [
        "\n",
        "# creating a dict file  \n",
        "status = {'hypothyroid': 'Yes','negative': 'No'} \n",
        "  \n",
        "# traversing through dataframe \n",
        "# Gender column and writing \n",
        "# values where key matches \n",
        "data.status = [status[item] for item in data.status] \n",
        "print(data.head())"
      ],
      "execution_count": 25,
      "outputs": [
        {
          "output_type": "stream",
          "text": [
            "  status   age sex on_thyroxine  ... FTI_measured   FTI TBG_measured TBG\n",
            "0    Yes  72.0   M            f  ...            y  10.0            n  28\n",
            "1    Yes  15.0   F            t  ...            y  17.0            n  28\n",
            "2    Yes  24.0   M            f  ...            y   0.0            n  28\n",
            "3    Yes  24.0   F            f  ...            y   6.0            n  28\n",
            "4    Yes  77.0   M            f  ...            y  44.0            n  28\n",
            "\n",
            "[5 rows x 26 columns]\n"
          ],
          "name": "stdout"
        }
      ]
    },
    {
      "cell_type": "markdown",
      "metadata": {
        "id": "G7WBB5FQSdl7",
        "colab_type": "text"
      },
      "source": [
        "# 2.2 Feature Engineering"
      ]
    },
    {
      "cell_type": "code",
      "metadata": {
        "id": "yBACSOwGJdn7",
        "colab_type": "code",
        "outputId": "db9ed4d1-670d-4c78-a9df-584069151adc",
        "colab": {
          "base_uri": "https://localhost:8080/",
          "height": 34
        }
      },
      "source": [
        "#  checking for duplicates\n",
        "#  The duplicate   occurs when an exact copy of a record is created as a different entry in the same database.\n",
        "data.duplicated().sum()"
      ],
      "execution_count": 0,
      "outputs": [
        {
          "output_type": "execute_result",
          "data": {
            "text/plain": [
              "78"
            ]
          },
          "metadata": {
            "tags": []
          },
          "execution_count": 193
        }
      ]
    },
    {
      "cell_type": "code",
      "metadata": {
        "id": "b09yS7cqKBUZ",
        "colab_type": "code",
        "colab": {}
      },
      "source": [
        "# I have opted to drop duplicates  in order to avoid redundancies,inconsistencies and complimicing accuracy of my model\n",
        "#  After  removing the duplicate i will call my dataframe df\n",
        "\n",
        "df=data.drop_duplicates(keep=False)\n"
      ],
      "execution_count": 0,
      "outputs": []
    },
    {
      "cell_type": "code",
      "metadata": {
        "id": "KX4VwemPKBR7",
        "colab_type": "code",
        "outputId": "5afe7758-e2b7-4af8-dcb4-cbbf2a485000",
        "colab": {
          "base_uri": "https://localhost:8080/",
          "height": 34
        }
      },
      "source": [
        "# checking the number of feaures I have remained with which is 3010 from the prevous one which was 3163\n",
        "len(df)"
      ],
      "execution_count": 0,
      "outputs": [
        {
          "output_type": "execute_result",
          "data": {
            "text/plain": [
              "3008"
            ]
          },
          "metadata": {
            "tags": []
          },
          "execution_count": 195
        }
      ]
    },
    {
      "cell_type": "code",
      "metadata": {
        "id": "BJBsqHLUKBO1",
        "colab_type": "code",
        "outputId": "b9008b0e-56f2-4e8f-8c88-3925906195b8",
        "colab": {
          "base_uri": "https://localhost:8080/",
          "height": 496
        }
      },
      "source": [
        "#  checking  for null values\n",
        "# \n",
        "df.isnull().sum()\n",
        "#  the dataset contain values and in the next cell i will show you how i will deal with them\n",
        "#  8/26 columns had  missing values where variable  TBG  had the highest number of missing values foolwed by T3"
      ],
      "execution_count": 0,
      "outputs": [
        {
          "output_type": "execute_result",
          "data": {
            "text/plain": [
              "status                       0\n",
              "age                          0\n",
              "sex                          0\n",
              "on_thyroxine                 0\n",
              "query_on_thyroxine           0\n",
              "on_antithyroid_medication    0\n",
              "thyroid_surgery              0\n",
              "query_hypothyroid            0\n",
              "query_hyperthyroid           0\n",
              "pregnant                     0\n",
              "sick                         0\n",
              "tumor                        0\n",
              "lithium                      0\n",
              "goitre                       0\n",
              "TSH_measured                 0\n",
              "TSH                          0\n",
              "T3_measured                  0\n",
              "T3                           0\n",
              "TT4_measured                 0\n",
              "TT4                          0\n",
              "T4U_measured                 0\n",
              "T4U                          0\n",
              "FTI_measured                 0\n",
              "FTI                          0\n",
              "TBG_measured                 0\n",
              "TBG                          0\n",
              "dtype: int64"
            ]
          },
          "metadata": {
            "tags": []
          },
          "execution_count": 196
        }
      ]
    },
    {
      "cell_type": "code",
      "metadata": {
        "id": "_lOQu9r2DfD4",
        "colab_type": "code",
        "outputId": "208d3d3c-c68b-4168-bf16-cded49927d7c",
        "colab": {
          "base_uri": "https://localhost:8080/",
          "height": 287
        }
      },
      "source": [
        "data.describe()"
      ],
      "execution_count": 0,
      "outputs": [
        {
          "output_type": "execute_result",
          "data": {
            "text/html": [
              "<div>\n",
              "<style scoped>\n",
              "    .dataframe tbody tr th:only-of-type {\n",
              "        vertical-align: middle;\n",
              "    }\n",
              "\n",
              "    .dataframe tbody tr th {\n",
              "        vertical-align: top;\n",
              "    }\n",
              "\n",
              "    .dataframe thead th {\n",
              "        text-align: right;\n",
              "    }\n",
              "</style>\n",
              "<table border=\"1\" class=\"dataframe\">\n",
              "  <thead>\n",
              "    <tr style=\"text-align: right;\">\n",
              "      <th></th>\n",
              "      <th>age</th>\n",
              "      <th>TSH</th>\n",
              "      <th>T3</th>\n",
              "      <th>TT4</th>\n",
              "      <th>T4U</th>\n",
              "      <th>FTI</th>\n",
              "    </tr>\n",
              "  </thead>\n",
              "  <tbody>\n",
              "    <tr>\n",
              "      <th>count</th>\n",
              "      <td>3163.000000</td>\n",
              "      <td>3163.000000</td>\n",
              "      <td>3163.000000</td>\n",
              "      <td>3163.000000</td>\n",
              "      <td>3163.000000</td>\n",
              "      <td>3163.000000</td>\n",
              "    </tr>\n",
              "    <tr>\n",
              "      <th>mean</th>\n",
              "      <td>51.555485</td>\n",
              "      <td>5.150354</td>\n",
              "      <td>1.909042</td>\n",
              "      <td>108.468195</td>\n",
              "      <td>0.976772</td>\n",
              "      <td>114.741985</td>\n",
              "    </tr>\n",
              "    <tr>\n",
              "      <th>std</th>\n",
              "      <td>17.909384</td>\n",
              "      <td>22.137871</td>\n",
              "      <td>0.882341</td>\n",
              "      <td>43.677305</td>\n",
              "      <td>0.217568</td>\n",
              "      <td>57.882814</td>\n",
              "    </tr>\n",
              "    <tr>\n",
              "      <th>min</th>\n",
              "      <td>1.000000</td>\n",
              "      <td>0.000000</td>\n",
              "      <td>0.000000</td>\n",
              "      <td>2.000000</td>\n",
              "      <td>0.000000</td>\n",
              "      <td>0.000000</td>\n",
              "    </tr>\n",
              "    <tr>\n",
              "      <th>25%</th>\n",
              "      <td>38.000000</td>\n",
              "      <td>0.000000</td>\n",
              "      <td>1.500000</td>\n",
              "      <td>85.000000</td>\n",
              "      <td>0.860000</td>\n",
              "      <td>92.000000</td>\n",
              "    </tr>\n",
              "    <tr>\n",
              "      <th>50%</th>\n",
              "      <td>54.000000</td>\n",
              "      <td>0.700000</td>\n",
              "      <td>1.800000</td>\n",
              "      <td>104.000000</td>\n",
              "      <td>0.960000</td>\n",
              "      <td>107.000000</td>\n",
              "    </tr>\n",
              "    <tr>\n",
              "      <th>75%</th>\n",
              "      <td>64.000000</td>\n",
              "      <td>1.800000</td>\n",
              "      <td>2.200000</td>\n",
              "      <td>124.000000</td>\n",
              "      <td>1.050000</td>\n",
              "      <td>126.000000</td>\n",
              "    </tr>\n",
              "    <tr>\n",
              "      <th>max</th>\n",
              "      <td>98.000000</td>\n",
              "      <td>530.000000</td>\n",
              "      <td>10.200000</td>\n",
              "      <td>450.000000</td>\n",
              "      <td>2.210000</td>\n",
              "      <td>881.000000</td>\n",
              "    </tr>\n",
              "  </tbody>\n",
              "</table>\n",
              "</div>"
            ],
            "text/plain": [
              "               age          TSH  ...          T4U          FTI\n",
              "count  3163.000000  3163.000000  ...  3163.000000  3163.000000\n",
              "mean     51.555485     5.150354  ...     0.976772   114.741985\n",
              "std      17.909384    22.137871  ...     0.217568    57.882814\n",
              "min       1.000000     0.000000  ...     0.000000     0.000000\n",
              "25%      38.000000     0.000000  ...     0.860000    92.000000\n",
              "50%      54.000000     0.700000  ...     0.960000   107.000000\n",
              "75%      64.000000     1.800000  ...     1.050000   126.000000\n",
              "max      98.000000   530.000000  ...     2.210000   881.000000\n",
              "\n",
              "[8 rows x 6 columns]"
            ]
          },
          "metadata": {
            "tags": []
          },
          "execution_count": 197
        }
      ]
    },
    {
      "cell_type": "code",
      "metadata": {
        "id": "IddoYIHyxkEZ",
        "colab_type": "code",
        "colab": {
          "base_uri": "https://localhost:8080/",
          "height": 313
        },
        "outputId": "6629993a-7213-4dca-c36e-69a2d0db5e64"
      },
      "source": [
        "plt.figure(dpi=200)\n",
        "data.hist()\n",
        "\n",
        "plt.show()\n",
        "# the graph shows the distribution our numerical data"
      ],
      "execution_count": 83,
      "outputs": [
        {
          "output_type": "display_data",
          "data": {
            "text/plain": [
              "<Figure size 1200x800 with 0 Axes>"
            ]
          },
          "metadata": {
            "tags": []
          }
        },
        {
          "output_type": "display_data",
          "data": {
            "image/png": "[encoded data removed]",
            "text/plain": [
              "<Figure size 432x288 with 6 Axes>"
            ]
          },
          "metadata": {
            "tags": []
          }
        }
      ]
    },
    {
      "cell_type": "code",
      "metadata": {
        "id": "Bw9WenCWDe78",
        "colab_type": "code",
        "outputId": "507f05dd-5909-4d9c-b112-89154663cece",
        "colab": {
          "base_uri": "https://localhost:8080/",
          "height": 496
        }
      },
      "source": [
        "data.max()\n",
        "#  In as much as  most patients  were  not suffering from Hypothriodism,\n",
        "#  the list below shows some the top condition/state at which someone would be negative\n",
        "#  This is a conclusive decision but I will try to check with the Models i shall use "
      ],
      "execution_count": 0,
      "outputs": [
        {
          "output_type": "execute_result",
          "data": {
            "text/plain": [
              "status                        Yes\n",
              "age                            98\n",
              "sex                             M\n",
              "on_thyroxine                    t\n",
              "query_on_thyroxine              t\n",
              "on_antithyroid_medication       t\n",
              "thyroid_surgery                 t\n",
              "query_hypothyroid               t\n",
              "query_hyperthyroid              t\n",
              "pregnant                        t\n",
              "sick                            t\n",
              "tumor                           t\n",
              "lithium                         t\n",
              "goitre                          t\n",
              "TSH_measured                    y\n",
              "TSH                           530\n",
              "T3_measured                     y\n",
              "T3                           10.2\n",
              "TT4_measured                    y\n",
              "TT4                           450\n",
              "T4U_measured                    y\n",
              "T4U                          2.21\n",
              "FTI_measured                    y\n",
              "FTI                           881\n",
              "TBG_measured                    y\n",
              "TBG                          9.30\n",
              "dtype: object"
            ]
          },
          "metadata": {
            "tags": []
          },
          "execution_count": 198
        }
      ]
    },
    {
      "cell_type": "code",
      "metadata": {
        "id": "wc3pg6l5FJ54",
        "colab_type": "code",
        "outputId": "aedb872b-d83c-4628-e457-43c65609864d",
        "colab": {
          "base_uri": "https://localhost:8080/",
          "height": 496
        }
      },
      "source": [
        "data.min()\n",
        "#  for someone to be be having hypothyroid  he /she had this minimum number of variables"
      ],
      "execution_count": 0,
      "outputs": [
        {
          "output_type": "execute_result",
          "data": {
            "text/plain": [
              "status                       No\n",
              "age                           1\n",
              "sex                           F\n",
              "on_thyroxine                  f\n",
              "query_on_thyroxine            f\n",
              "on_antithyroid_medication     f\n",
              "thyroid_surgery               f\n",
              "query_hypothyroid             f\n",
              "query_hyperthyroid            f\n",
              "pregnant                      f\n",
              "sick                          f\n",
              "tumor                         f\n",
              "lithium                       f\n",
              "goitre                        f\n",
              "TSH_measured                  n\n",
              "TSH                           0\n",
              "T3_measured                   n\n",
              "T3                            0\n",
              "TT4_measured                  n\n",
              "TT4                           2\n",
              "T4U_measured                  n\n",
              "T4U                           0\n",
              "FTI_measured                  n\n",
              "FTI                           0\n",
              "TBG_measured                  n\n",
              "TBG                           0\n",
              "dtype: object"
            ]
          },
          "metadata": {
            "tags": []
          },
          "execution_count": 199
        }
      ]
    },
    {
      "cell_type": "code",
      "metadata": {
        "id": "O2DWjzALfMLM",
        "colab_type": "code",
        "outputId": "d8578c6c-b772-42ef-bb06-77b392af00a6",
        "colab": {
          "base_uri": "https://localhost:8080/",
          "height": 52
        }
      },
      "source": [
        "# checking the most age of patients who participated in this sampling excercise\n",
        "print('age mode', data['age'].mode())\n",
        "\n",
        "# majority of the patients who particicpated where in the age of 59 years\n"
      ],
      "execution_count": 0,
      "outputs": [
        {
          "output_type": "stream",
          "text": [
            "age mode 0    54.0\n",
            "dtype: float64\n"
          ],
          "name": "stdout"
        }
      ]
    },
    {
      "cell_type": "code",
      "metadata": {
        "id": "HHae1w6MmyIO",
        "colab_type": "code",
        "colab": {
          "base_uri": "https://localhost:8080/",
          "height": 70
        },
        "outputId": "6f6e9e31-e0e9-4eb2-f5c3-70fef7714a92"
      },
      "source": [
        "age"
      ],
      "execution_count": 66,
      "outputs": [
        {
          "output_type": "execute_result",
          "data": {
            "text/plain": [
              "1462    54.0\n",
              "264     54.0\n",
              "Name: age, dtype: float64"
            ]
          },
          "metadata": {
            "tags": []
          },
          "execution_count": 66
        }
      ]
    },
    {
      "cell_type": "code",
      "metadata": {
        "id": "SmcuPGsgK4_u",
        "colab_type": "code",
        "colab": {
          "base_uri": "https://localhost:8080/",
          "height": 402
        },
        "outputId": "7af6c238-b94b-4530-9825-4c2d73295cff"
      },
      "source": [
        "\n",
        "#  checking for corraltion\n",
        "# A lighter shade shows that the relationship between the variables i\n",
        "plt.figure(dpi=100)\n",
        "\n",
        "sns.heatmap(data.corr(),annot=True)\n",
        "plt.title('A correlation matrix of different variables')\n",
        "\n",
        "plt.show()"
      ],
      "execution_count": 134,
      "outputs": [
        {
          "output_type": "display_data",
          "data": {
            "image/png": "[encoded data removed]",
            "text/plain": [
              "<Figure size 600x400 with 2 Axes>"
            ]
          },
          "metadata": {
            "tags": []
          }
        }
      ]
    },
    {
      "cell_type": "code",
      "metadata": {
        "id": "DidSQH8DK46z",
        "colab_type": "code",
        "colab": {
          "base_uri": "https://localhost:8080/",
          "height": 314
        },
        "outputId": "a20bcabe-727e-4560-ec38-c8c3ae0e3169"
      },
      "source": [
        "data.groupby(['status','sex']).size().unstack().plot(kind='bar',stacked=True)\n",
        "plt.show()\n",
        "\n",
        "# the graph shows that Female were suffering from disease than men and out of the total participant negative was high"
      ],
      "execution_count": 135,
      "outputs": [
        {
          "output_type": "display_data",
          "data": {
            "image/png": "[encoded data removed]",
            "text/plain": [
              "<Figure size 432x288 with 1 Axes>"
            ]
          },
          "metadata": {
            "tags": []
          }
        }
      ]
    },
    {
      "cell_type": "code",
      "metadata": {
        "id": "oT3VFtHAmu-j",
        "colab_type": "code",
        "colab": {
          "base_uri": "https://localhost:8080/",
          "height": 34
        },
        "outputId": "c10ec0f4-4872-406b-e035-41af55793a67"
      },
      "source": [
        "status"
      ],
      "execution_count": 65,
      "outputs": [
        {
          "output_type": "execute_result",
          "data": {
            "text/plain": [
              "['Yes', 'No']"
            ]
          },
          "metadata": {
            "tags": []
          },
          "execution_count": 65
        }
      ]
    },
    {
      "cell_type": "code",
      "metadata": {
        "id": "OiB7_ltLgRW_",
        "colab_type": "code",
        "outputId": "3091e013-1887-41a6-9747-519a2fe9f7d3",
        "colab": {
          "base_uri": "https://localhost:8080/",
          "height": 274
        }
      },
      "source": [
        "# Distribution of Hypothtriodism in relation to age\n",
        "\n",
        "#plt.figure(dpi = 100)\n",
        "status = data['status'].unique().tolist()\n",
        "age = data['age'].sample(2,random_state=0)\n",
        "explode = [0,0.1]\n",
        "plt.pie(age,explode= explode,labels=status,autopct ='%1.1f%%',shadow =False)\n",
        "plt.axis('equal')\n",
        "\n",
        "plt.title('PIE CHART OF PATIENT STATUS')\n",
        "plt.show()\n",
        "#  The data shows that out of the total number of patients who participated in this excercise 20% had hypothyoroid while 56.7% tested negative"
      ],
      "execution_count": 133,
      "outputs": [
        {
          "output_type": "display_data",
          "data": {
            "image/png": "[encoded data removed]",
            "text/plain": [
              "<Figure size 432x288 with 1 Axes>"
            ]
          },
          "metadata": {
            "tags": []
          }
        }
      ]
    },
    {
      "cell_type": "code",
      "metadata": {
        "id": "YQNZmvhi4uns",
        "colab_type": "code",
        "colab": {
          "base_uri": "https://localhost:8080/",
          "height": 432
        },
        "outputId": "b8a4d539-9a3e-40c4-c8b5-dfcf276f36c5"
      },
      "source": [
        "plt.figure(dpi=100)\n",
        "\n",
        "status = data['status']\n",
        "age = data['age']\n",
        "plt.bar(status,age,color ='blue')\n",
        "plt.xlabel('Test Results')\n",
        "plt.ylabel('age distribution')\n",
        "plt.title('Hypothyroid Distribution with age')\n",
        "plt.show()\n"
      ],
      "execution_count": 85,
      "outputs": [
        {
          "output_type": "display_data",
          "data": {
            "image/png": "[encoded data removed]",
            "text/plain": [
              "<Figure size 600x400 with 1 Axes>"
            ]
          },
          "metadata": {
            "tags": []
          }
        }
      ]
    },
    {
      "cell_type": "code",
      "metadata": {
        "id": "63PYSt-KwnOa",
        "colab_type": "code",
        "colab": {}
      },
      "source": [
        "# Since i have already cleaned my dataset set and carried out EDA as well as Feature Engineering, I will now split the dataset to Y and X\n",
        "#  y is my depended variable(status) while X is my independent varaibles\n",
        "\n",
        "#  separating my dataset to target(y)\n",
        "y = data['status'].values\n",
        "\n",
        "#  separating the x from the origina daataset. i  will do this by dropping my target column which is 'status'\n",
        "ss = ['age', 'sex', 'on_thyroxine', 'query_on_thyroxine',\n",
        "       'on_antithyroid_medication', 'thyroid_surgery', 'query_hypothyroid',\n",
        "       'query_hyperthyroid', 'pregnant', 'sick', 'tumor', 'lithium', 'goitre',\n",
        "       'TSH_measured', 'TSH', 'T3_measured', 'T3', 'TT4_measured', 'TT4',\n",
        "       'T4U_measured', 'T4U', 'FTI_measured', 'FTI', 'TBG_measured', 'TBG']\n",
        "\n",
        "Z = data[ss]\n"
      ],
      "execution_count": 0,
      "outputs": []
    },
    {
      "cell_type": "code",
      "metadata": {
        "id": "bv_B9OB-Hbi2",
        "colab_type": "code",
        "colab": {}
      },
      "source": [
        "#  since we have some  strings  that will not in our model we ill convert the to dummies\n",
        "\n",
        "X = pd.get_dummies(Z)"
      ],
      "execution_count": 0,
      "outputs": []
    },
    {
      "cell_type": "code",
      "metadata": {
        "id": "HrtBXbv9yYZv",
        "colab_type": "code",
        "outputId": "1086bec3-ff85-45bc-c8e8-4a4911c9d90d",
        "colab": {
          "base_uri": "https://localhost:8080/",
          "height": 34
        }
      },
      "source": [
        "#  checking shape of X\n",
        "X.shape\n",
        "#  X has 30163 columns and 94 variable features"
      ],
      "execution_count": 30,
      "outputs": [
        {
          "output_type": "execute_result",
          "data": {
            "text/plain": [
              "(3163, 94)"
            ]
          },
          "metadata": {
            "tags": []
          },
          "execution_count": 30
        }
      ]
    },
    {
      "cell_type": "code",
      "metadata": {
        "id": "jGhfZcUBzCxc",
        "colab_type": "code",
        "outputId": "4111cc0a-e45f-4ced-d3e6-e0344a3146c4",
        "colab": {
          "base_uri": "https://localhost:8080/",
          "height": 34
        }
      },
      "source": [
        "#  checking y shape\n",
        "y.shape"
      ],
      "execution_count": 31,
      "outputs": [
        {
          "output_type": "execute_result",
          "data": {
            "text/plain": [
              "(3163,)"
            ]
          },
          "metadata": {
            "tags": []
          },
          "execution_count": 31
        }
      ]
    },
    {
      "cell_type": "code",
      "metadata": {
        "id": "gzfPXerWMgHO",
        "colab_type": "code",
        "outputId": "18144c74-1fd3-4007-ed85-1643a8bbf5c2",
        "colab": {
          "base_uri": "https://localhost:8080/",
          "height": 246
        }
      },
      "source": [
        "X.head()"
      ],
      "execution_count": 0,
      "outputs": [
        {
          "output_type": "execute_result",
          "data": {
            "text/html": [
              "<div>\n",
              "<style scoped>\n",
              "    .dataframe tbody tr th:only-of-type {\n",
              "        vertical-align: middle;\n",
              "    }\n",
              "\n",
              "    .dataframe tbody tr th {\n",
              "        vertical-align: top;\n",
              "    }\n",
              "\n",
              "    .dataframe thead th {\n",
              "        text-align: right;\n",
              "    }\n",
              "</style>\n",
              "<table border=\"1\" class=\"dataframe\">\n",
              "  <thead>\n",
              "    <tr style=\"text-align: right;\">\n",
              "      <th></th>\n",
              "      <th>age</th>\n",
              "      <th>TSH</th>\n",
              "      <th>T3</th>\n",
              "      <th>TT4</th>\n",
              "      <th>T4U</th>\n",
              "      <th>FTI</th>\n",
              "      <th>sex_F</th>\n",
              "      <th>sex_M</th>\n",
              "      <th>on_thyroxine_f</th>\n",
              "      <th>on_thyroxine_t</th>\n",
              "      <th>query_on_thyroxine_f</th>\n",
              "      <th>query_on_thyroxine_t</th>\n",
              "      <th>on_antithyroid_medication_f</th>\n",
              "      <th>on_antithyroid_medication_t</th>\n",
              "      <th>thyroid_surgery_f</th>\n",
              "      <th>thyroid_surgery_t</th>\n",
              "      <th>query_hypothyroid_f</th>\n",
              "      <th>query_hypothyroid_t</th>\n",
              "      <th>query_hyperthyroid_f</th>\n",
              "      <th>query_hyperthyroid_t</th>\n",
              "      <th>pregnant_f</th>\n",
              "      <th>pregnant_t</th>\n",
              "      <th>sick_f</th>\n",
              "      <th>sick_t</th>\n",
              "      <th>tumor_f</th>\n",
              "      <th>tumor_t</th>\n",
              "      <th>lithium_f</th>\n",
              "      <th>lithium_t</th>\n",
              "      <th>goitre_f</th>\n",
              "      <th>goitre_t</th>\n",
              "      <th>TSH_measured_n</th>\n",
              "      <th>TSH_measured_y</th>\n",
              "      <th>T3_measured_n</th>\n",
              "      <th>T3_measured_y</th>\n",
              "      <th>TT4_measured_n</th>\n",
              "      <th>TT4_measured_y</th>\n",
              "      <th>T4U_measured_n</th>\n",
              "      <th>T4U_measured_y</th>\n",
              "      <th>FTI_measured_n</th>\n",
              "      <th>FTI_measured_y</th>\n",
              "      <th>...</th>\n",
              "      <th>TBG_19</th>\n",
              "      <th>TBG_20</th>\n",
              "      <th>TBG_21</th>\n",
              "      <th>TBG_22</th>\n",
              "      <th>TBG_23</th>\n",
              "      <th>TBG_24</th>\n",
              "      <th>TBG_25</th>\n",
              "      <th>TBG_26</th>\n",
              "      <th>TBG_27</th>\n",
              "      <th>TBG_28</th>\n",
              "      <th>TBG_29</th>\n",
              "      <th>TBG_3.10</th>\n",
              "      <th>TBG_30</th>\n",
              "      <th>TBG_31</th>\n",
              "      <th>TBG_32</th>\n",
              "      <th>TBG_33</th>\n",
              "      <th>TBG_34</th>\n",
              "      <th>TBG_35</th>\n",
              "      <th>TBG_36</th>\n",
              "      <th>TBG_37</th>\n",
              "      <th>TBG_38</th>\n",
              "      <th>TBG_39</th>\n",
              "      <th>TBG_40</th>\n",
              "      <th>TBG_41</th>\n",
              "      <th>TBG_43</th>\n",
              "      <th>TBG_45</th>\n",
              "      <th>TBG_47</th>\n",
              "      <th>TBG_48</th>\n",
              "      <th>TBG_50</th>\n",
              "      <th>TBG_52</th>\n",
              "      <th>TBG_53</th>\n",
              "      <th>TBG_63</th>\n",
              "      <th>TBG_65</th>\n",
              "      <th>TBG_69</th>\n",
              "      <th>TBG_7.30</th>\n",
              "      <th>TBG_8.40</th>\n",
              "      <th>TBG_8.50</th>\n",
              "      <th>TBG_80</th>\n",
              "      <th>TBG_86</th>\n",
              "      <th>TBG_9.30</th>\n",
              "    </tr>\n",
              "  </thead>\n",
              "  <tbody>\n",
              "    <tr>\n",
              "      <th>0</th>\n",
              "      <td>72.0</td>\n",
              "      <td>30.0</td>\n",
              "      <td>0.6</td>\n",
              "      <td>15.0</td>\n",
              "      <td>1.48</td>\n",
              "      <td>10.0</td>\n",
              "      <td>0</td>\n",
              "      <td>1</td>\n",
              "      <td>1</td>\n",
              "      <td>0</td>\n",
              "      <td>1</td>\n",
              "      <td>0</td>\n",
              "      <td>1</td>\n",
              "      <td>0</td>\n",
              "      <td>1</td>\n",
              "      <td>0</td>\n",
              "      <td>1</td>\n",
              "      <td>0</td>\n",
              "      <td>1</td>\n",
              "      <td>0</td>\n",
              "      <td>1</td>\n",
              "      <td>0</td>\n",
              "      <td>1</td>\n",
              "      <td>0</td>\n",
              "      <td>1</td>\n",
              "      <td>0</td>\n",
              "      <td>1</td>\n",
              "      <td>0</td>\n",
              "      <td>1</td>\n",
              "      <td>0</td>\n",
              "      <td>0</td>\n",
              "      <td>1</td>\n",
              "      <td>0</td>\n",
              "      <td>1</td>\n",
              "      <td>0</td>\n",
              "      <td>1</td>\n",
              "      <td>0</td>\n",
              "      <td>1</td>\n",
              "      <td>0</td>\n",
              "      <td>1</td>\n",
              "      <td>...</td>\n",
              "      <td>0</td>\n",
              "      <td>0</td>\n",
              "      <td>0</td>\n",
              "      <td>0</td>\n",
              "      <td>0</td>\n",
              "      <td>0</td>\n",
              "      <td>0</td>\n",
              "      <td>0</td>\n",
              "      <td>0</td>\n",
              "      <td>1</td>\n",
              "      <td>0</td>\n",
              "      <td>0</td>\n",
              "      <td>0</td>\n",
              "      <td>0</td>\n",
              "      <td>0</td>\n",
              "      <td>0</td>\n",
              "      <td>0</td>\n",
              "      <td>0</td>\n",
              "      <td>0</td>\n",
              "      <td>0</td>\n",
              "      <td>0</td>\n",
              "      <td>0</td>\n",
              "      <td>0</td>\n",
              "      <td>0</td>\n",
              "      <td>0</td>\n",
              "      <td>0</td>\n",
              "      <td>0</td>\n",
              "      <td>0</td>\n",
              "      <td>0</td>\n",
              "      <td>0</td>\n",
              "      <td>0</td>\n",
              "      <td>0</td>\n",
              "      <td>0</td>\n",
              "      <td>0</td>\n",
              "      <td>0</td>\n",
              "      <td>0</td>\n",
              "      <td>0</td>\n",
              "      <td>0</td>\n",
              "      <td>0</td>\n",
              "      <td>0</td>\n",
              "    </tr>\n",
              "    <tr>\n",
              "      <th>1</th>\n",
              "      <td>15.0</td>\n",
              "      <td>145.0</td>\n",
              "      <td>1.7</td>\n",
              "      <td>19.0</td>\n",
              "      <td>1.13</td>\n",
              "      <td>17.0</td>\n",
              "      <td>1</td>\n",
              "      <td>0</td>\n",
              "      <td>0</td>\n",
              "      <td>1</td>\n",
              "      <td>1</td>\n",
              "      <td>0</td>\n",
              "      <td>1</td>\n",
              "      <td>0</td>\n",
              "      <td>1</td>\n",
              "      <td>0</td>\n",
              "      <td>1</td>\n",
              "      <td>0</td>\n",
              "      <td>1</td>\n",
              "      <td>0</td>\n",
              "      <td>1</td>\n",
              "      <td>0</td>\n",
              "      <td>1</td>\n",
              "      <td>0</td>\n",
              "      <td>1</td>\n",
              "      <td>0</td>\n",
              "      <td>1</td>\n",
              "      <td>0</td>\n",
              "      <td>1</td>\n",
              "      <td>0</td>\n",
              "      <td>0</td>\n",
              "      <td>1</td>\n",
              "      <td>0</td>\n",
              "      <td>1</td>\n",
              "      <td>0</td>\n",
              "      <td>1</td>\n",
              "      <td>0</td>\n",
              "      <td>1</td>\n",
              "      <td>0</td>\n",
              "      <td>1</td>\n",
              "      <td>...</td>\n",
              "      <td>0</td>\n",
              "      <td>0</td>\n",
              "      <td>0</td>\n",
              "      <td>0</td>\n",
              "      <td>0</td>\n",
              "      <td>0</td>\n",
              "      <td>0</td>\n",
              "      <td>0</td>\n",
              "      <td>0</td>\n",
              "      <td>1</td>\n",
              "      <td>0</td>\n",
              "      <td>0</td>\n",
              "      <td>0</td>\n",
              "      <td>0</td>\n",
              "      <td>0</td>\n",
              "      <td>0</td>\n",
              "      <td>0</td>\n",
              "      <td>0</td>\n",
              "      <td>0</td>\n",
              "      <td>0</td>\n",
              "      <td>0</td>\n",
              "      <td>0</td>\n",
              "      <td>0</td>\n",
              "      <td>0</td>\n",
              "      <td>0</td>\n",
              "      <td>0</td>\n",
              "      <td>0</td>\n",
              "      <td>0</td>\n",
              "      <td>0</td>\n",
              "      <td>0</td>\n",
              "      <td>0</td>\n",
              "      <td>0</td>\n",
              "      <td>0</td>\n",
              "      <td>0</td>\n",
              "      <td>0</td>\n",
              "      <td>0</td>\n",
              "      <td>0</td>\n",
              "      <td>0</td>\n",
              "      <td>0</td>\n",
              "      <td>0</td>\n",
              "    </tr>\n",
              "    <tr>\n",
              "      <th>2</th>\n",
              "      <td>24.0</td>\n",
              "      <td>0.0</td>\n",
              "      <td>0.2</td>\n",
              "      <td>4.0</td>\n",
              "      <td>1.00</td>\n",
              "      <td>0.0</td>\n",
              "      <td>0</td>\n",
              "      <td>1</td>\n",
              "      <td>1</td>\n",
              "      <td>0</td>\n",
              "      <td>1</td>\n",
              "      <td>0</td>\n",
              "      <td>1</td>\n",
              "      <td>0</td>\n",
              "      <td>1</td>\n",
              "      <td>0</td>\n",
              "      <td>1</td>\n",
              "      <td>0</td>\n",
              "      <td>1</td>\n",
              "      <td>0</td>\n",
              "      <td>1</td>\n",
              "      <td>0</td>\n",
              "      <td>1</td>\n",
              "      <td>0</td>\n",
              "      <td>1</td>\n",
              "      <td>0</td>\n",
              "      <td>1</td>\n",
              "      <td>0</td>\n",
              "      <td>1</td>\n",
              "      <td>0</td>\n",
              "      <td>0</td>\n",
              "      <td>1</td>\n",
              "      <td>0</td>\n",
              "      <td>1</td>\n",
              "      <td>0</td>\n",
              "      <td>1</td>\n",
              "      <td>0</td>\n",
              "      <td>1</td>\n",
              "      <td>0</td>\n",
              "      <td>1</td>\n",
              "      <td>...</td>\n",
              "      <td>0</td>\n",
              "      <td>0</td>\n",
              "      <td>0</td>\n",
              "      <td>0</td>\n",
              "      <td>0</td>\n",
              "      <td>0</td>\n",
              "      <td>0</td>\n",
              "      <td>0</td>\n",
              "      <td>0</td>\n",
              "      <td>1</td>\n",
              "      <td>0</td>\n",
              "      <td>0</td>\n",
              "      <td>0</td>\n",
              "      <td>0</td>\n",
              "      <td>0</td>\n",
              "      <td>0</td>\n",
              "      <td>0</td>\n",
              "      <td>0</td>\n",
              "      <td>0</td>\n",
              "      <td>0</td>\n",
              "      <td>0</td>\n",
              "      <td>0</td>\n",
              "      <td>0</td>\n",
              "      <td>0</td>\n",
              "      <td>0</td>\n",
              "      <td>0</td>\n",
              "      <td>0</td>\n",
              "      <td>0</td>\n",
              "      <td>0</td>\n",
              "      <td>0</td>\n",
              "      <td>0</td>\n",
              "      <td>0</td>\n",
              "      <td>0</td>\n",
              "      <td>0</td>\n",
              "      <td>0</td>\n",
              "      <td>0</td>\n",
              "      <td>0</td>\n",
              "      <td>0</td>\n",
              "      <td>0</td>\n",
              "      <td>0</td>\n",
              "    </tr>\n",
              "    <tr>\n",
              "      <th>3</th>\n",
              "      <td>24.0</td>\n",
              "      <td>430.0</td>\n",
              "      <td>0.4</td>\n",
              "      <td>6.0</td>\n",
              "      <td>1.04</td>\n",
              "      <td>6.0</td>\n",
              "      <td>1</td>\n",
              "      <td>0</td>\n",
              "      <td>1</td>\n",
              "      <td>0</td>\n",
              "      <td>1</td>\n",
              "      <td>0</td>\n",
              "      <td>1</td>\n",
              "      <td>0</td>\n",
              "      <td>1</td>\n",
              "      <td>0</td>\n",
              "      <td>1</td>\n",
              "      <td>0</td>\n",
              "      <td>1</td>\n",
              "      <td>0</td>\n",
              "      <td>1</td>\n",
              "      <td>0</td>\n",
              "      <td>1</td>\n",
              "      <td>0</td>\n",
              "      <td>1</td>\n",
              "      <td>0</td>\n",
              "      <td>1</td>\n",
              "      <td>0</td>\n",
              "      <td>1</td>\n",
              "      <td>0</td>\n",
              "      <td>0</td>\n",
              "      <td>1</td>\n",
              "      <td>0</td>\n",
              "      <td>1</td>\n",
              "      <td>0</td>\n",
              "      <td>1</td>\n",
              "      <td>0</td>\n",
              "      <td>1</td>\n",
              "      <td>0</td>\n",
              "      <td>1</td>\n",
              "      <td>...</td>\n",
              "      <td>0</td>\n",
              "      <td>0</td>\n",
              "      <td>0</td>\n",
              "      <td>0</td>\n",
              "      <td>0</td>\n",
              "      <td>0</td>\n",
              "      <td>0</td>\n",
              "      <td>0</td>\n",
              "      <td>0</td>\n",
              "      <td>1</td>\n",
              "      <td>0</td>\n",
              "      <td>0</td>\n",
              "      <td>0</td>\n",
              "      <td>0</td>\n",
              "      <td>0</td>\n",
              "      <td>0</td>\n",
              "      <td>0</td>\n",
              "      <td>0</td>\n",
              "      <td>0</td>\n",
              "      <td>0</td>\n",
              "      <td>0</td>\n",
              "      <td>0</td>\n",
              "      <td>0</td>\n",
              "      <td>0</td>\n",
              "      <td>0</td>\n",
              "      <td>0</td>\n",
              "      <td>0</td>\n",
              "      <td>0</td>\n",
              "      <td>0</td>\n",
              "      <td>0</td>\n",
              "      <td>0</td>\n",
              "      <td>0</td>\n",
              "      <td>0</td>\n",
              "      <td>0</td>\n",
              "      <td>0</td>\n",
              "      <td>0</td>\n",
              "      <td>0</td>\n",
              "      <td>0</td>\n",
              "      <td>0</td>\n",
              "      <td>0</td>\n",
              "    </tr>\n",
              "    <tr>\n",
              "      <th>4</th>\n",
              "      <td>77.0</td>\n",
              "      <td>7.3</td>\n",
              "      <td>1.2</td>\n",
              "      <td>57.0</td>\n",
              "      <td>1.28</td>\n",
              "      <td>44.0</td>\n",
              "      <td>0</td>\n",
              "      <td>1</td>\n",
              "      <td>1</td>\n",
              "      <td>0</td>\n",
              "      <td>1</td>\n",
              "      <td>0</td>\n",
              "      <td>1</td>\n",
              "      <td>0</td>\n",
              "      <td>1</td>\n",
              "      <td>0</td>\n",
              "      <td>1</td>\n",
              "      <td>0</td>\n",
              "      <td>1</td>\n",
              "      <td>0</td>\n",
              "      <td>1</td>\n",
              "      <td>0</td>\n",
              "      <td>1</td>\n",
              "      <td>0</td>\n",
              "      <td>1</td>\n",
              "      <td>0</td>\n",
              "      <td>1</td>\n",
              "      <td>0</td>\n",
              "      <td>1</td>\n",
              "      <td>0</td>\n",
              "      <td>0</td>\n",
              "      <td>1</td>\n",
              "      <td>0</td>\n",
              "      <td>1</td>\n",
              "      <td>0</td>\n",
              "      <td>1</td>\n",
              "      <td>0</td>\n",
              "      <td>1</td>\n",
              "      <td>0</td>\n",
              "      <td>1</td>\n",
              "      <td>...</td>\n",
              "      <td>0</td>\n",
              "      <td>0</td>\n",
              "      <td>0</td>\n",
              "      <td>0</td>\n",
              "      <td>0</td>\n",
              "      <td>0</td>\n",
              "      <td>0</td>\n",
              "      <td>0</td>\n",
              "      <td>0</td>\n",
              "      <td>1</td>\n",
              "      <td>0</td>\n",
              "      <td>0</td>\n",
              "      <td>0</td>\n",
              "      <td>0</td>\n",
              "      <td>0</td>\n",
              "      <td>0</td>\n",
              "      <td>0</td>\n",
              "      <td>0</td>\n",
              "      <td>0</td>\n",
              "      <td>0</td>\n",
              "      <td>0</td>\n",
              "      <td>0</td>\n",
              "      <td>0</td>\n",
              "      <td>0</td>\n",
              "      <td>0</td>\n",
              "      <td>0</td>\n",
              "      <td>0</td>\n",
              "      <td>0</td>\n",
              "      <td>0</td>\n",
              "      <td>0</td>\n",
              "      <td>0</td>\n",
              "      <td>0</td>\n",
              "      <td>0</td>\n",
              "      <td>0</td>\n",
              "      <td>0</td>\n",
              "      <td>0</td>\n",
              "      <td>0</td>\n",
              "      <td>0</td>\n",
              "      <td>0</td>\n",
              "      <td>0</td>\n",
              "    </tr>\n",
              "  </tbody>\n",
              "</table>\n",
              "<p>5 rows × 94 columns</p>\n",
              "</div>"
            ],
            "text/plain": [
              "    age    TSH   T3   TT4   T4U  ...  TBG_8.40  TBG_8.50  TBG_80  TBG_86  TBG_9.30\n",
              "0  72.0   30.0  0.6  15.0  1.48  ...         0         0       0       0         0\n",
              "1  15.0  145.0  1.7  19.0  1.13  ...         0         0       0       0         0\n",
              "2  24.0    0.0  0.2   4.0  1.00  ...         0         0       0       0         0\n",
              "3  24.0  430.0  0.4   6.0  1.04  ...         0         0       0       0         0\n",
              "4  77.0    7.3  1.2  57.0  1.28  ...         0         0       0       0         0\n",
              "\n",
              "[5 rows x 94 columns]"
            ]
          },
          "metadata": {
            "tags": []
          },
          "execution_count": 213
        }
      ]
    },
    {
      "cell_type": "code",
      "metadata": {
        "id": "xII2doB2R6sP",
        "colab_type": "code",
        "colab": {}
      },
      "source": [
        "#  spliting the dataset to train and test\n",
        "# During our modelling we will use a 80% as our training sqmple and 20 as the Test\n",
        "#  a random_state of 0\n",
        " X_train,X_test,y_train,y_test  = train_test_split(X,y, test_size = 0.2, random_state=0)"
      ],
      "execution_count": 0,
      "outputs": []
    },
    {
      "cell_type": "markdown",
      "metadata": {
        "id": "d-Fa5CsDl9y2",
        "colab_type": "text"
      },
      "source": [
        "# 3.Modeling\n",
        "\n",
        "* From the data i was provided with, my work was to predict whether given the feayures I have in the data set,Patient will be suffering from Hypothyroidism or not.\n",
        "* The question requires me to determines whether or not the patient's symptoms indicate that the patient has hypothyroid\n",
        "* That means i will use A *classifier* instead of *Regressor* since my target variable is not  continous\n",
        "* During my classification I will use Different approaches/models to test and see which model will be able to classify my target  correctly.\n",
        " * the correctness of my  model will be accessed using ***accuracy*** and ***confusion matrix*** \n",
        " * the model will use include \n",
        " * Decision Tree:\n",
        "   * Random Forest, \n",
        "   * AdaBoosted Tree\n",
        "   * Gradient Boosted Tree\n",
        " * Support Vector Machine( SVM)"
      ]
    },
    {
      "cell_type": "markdown",
      "metadata": {
        "id": "pJZWAwArhrs2",
        "colab_type": "text"
      },
      "source": [
        "## 3.0 Decision Tree"
      ]
    },
    {
      "cell_type": "code",
      "metadata": {
        "id": "d5Cn0jDNsubU",
        "colab_type": "code",
        "colab": {}
      },
      "source": [
        "??DecisionTreeClassifier"
      ],
      "execution_count": 0,
      "outputs": []
    },
    {
      "cell_type": "code",
      "metadata": {
        "id": "kBdMIVeChzNn",
        "colab_type": "code",
        "outputId": "02874e84-c55f-4a0e-9e04-e1839f384c17",
        "colab": {
          "base_uri": "https://localhost:8080/",
          "height": 123
        }
      },
      "source": [
        "# creating a decision tree classifier\n",
        "decision =DecisionTreeClassifier(max_depth=4,min_samples_split=2,splitter='best')\n",
        "\n",
        "# train it based on ourtraining set\n",
        "decision.fit(X_train,y_train)\n",
        "\n",
        "\n"
      ],
      "execution_count": 121,
      "outputs": [
        {
          "output_type": "execute_result",
          "data": {
            "text/plain": [
              "DecisionTreeClassifier(class_weight=None, criterion='gini', max_depth=4,\n",
              "                       max_features=None, max_leaf_nodes=None,\n",
              "                       min_impurity_decrease=0.0, min_impurity_split=None,\n",
              "                       min_samples_leaf=1, min_samples_split=2,\n",
              "                       min_weight_fraction_leaf=0.0, presort=False,\n",
              "                       random_state=None, splitter='best')"
            ]
          },
          "metadata": {
            "tags": []
          },
          "execution_count": 121
        }
      ]
    },
    {
      "cell_type": "code",
      "metadata": {
        "id": "c5lvbM4lhy5X",
        "colab_type": "code",
        "colab": {}
      },
      "source": [
        "\n",
        "# Predict based on the model we've trained\n",
        "y_pred_decision = decision.predict(X_test)"
      ],
      "execution_count": 0,
      "outputs": []
    },
    {
      "cell_type": "code",
      "metadata": {
        "id": "qG4-2NOFkBvb",
        "colab_type": "code",
        "outputId": "75b6f9f1-a55b-4f0e-a25e-968645955b50",
        "colab": {
          "base_uri": "https://localhost:8080/",
          "height": 34
        }
      },
      "source": [
        "\n",
        "from sklearn import metrics\n",
        "# Model Accuracy, how often is the classifier correct?\n",
        "print(\"Decison_Accuracy:\",metrics.accuracy_score(y_test, y_pred_decision))\n",
        " # after using parameter the  accuarcy changed from 97.6 % to 98.7% the accuracy does not go beyond 98.74%"
      ],
      "execution_count": 123,
      "outputs": [
        {
          "output_type": "stream",
          "text": [
            "Decison_Accuracy: 0.9873617693522907\n"
          ],
          "name": "stdout"
        }
      ]
    },
    {
      "cell_type": "code",
      "metadata": {
        "id": "kYXejES5kBYF",
        "colab_type": "code",
        "outputId": "6584cf24-e50f-422e-e8d9-e14269a10c49",
        "colab": {
          "base_uri": "https://localhost:8080/",
          "height": 52
        }
      },
      "source": [
        "#  computing the confusion matrix\n",
        "\n",
        "from sklearn import metrics\n",
        "# Model Accuracy, how often is the classifier correct?\n",
        "print(\"Confusion matrrix:\",metrics.confusion_matrix(y_test, y_pred_decision))\n",
        "# before parameters my model predicted 618/631 correctly but after using the parameter the number increased to  625/631 correctly\n",
        "# only 8 points were misclassied"
      ],
      "execution_count": 0,
      "outputs": [
        {
          "output_type": "stream",
          "text": [
            "Confusion matrrix: [[602   5]\n",
            " [  3  23]]\n"
          ],
          "name": "stdout"
        }
      ]
    },
    {
      "cell_type": "code",
      "metadata": {
        "id": "ZppLTJVpl1Gv",
        "colab_type": "code",
        "colab": {}
      },
      "source": [
        "confusion_matrix = confusion_matrix(y_test,y_pred_decision)\n",
        "confusion_matrix"
      ],
      "execution_count": 0,
      "outputs": []
    },
    {
      "cell_type": "markdown",
      "metadata": {
        "id": "IErELY3jvjge",
        "colab_type": "text"
      },
      "source": [
        "\n",
        "\n",
        "## 3.1 Random Forest\n",
        " Random forest is a type of Decision only that it complices  of many decision trees which have beeen selected randomly"
      ]
    },
    {
      "cell_type": "code",
      "metadata": {
        "id": "Y2BskTu0gyZo",
        "colab_type": "code",
        "colab": {}
      },
      "source": [
        "#  spliting the dataset to train and test\n",
        "# During our modelling we will use a 80% as our training sqmple and 20 as the Test\n",
        "#  a random_state of 0\n",
        " X_train,X_test,y_train,y_test  = train_test_split(X,y, test_size = 0.2, random_state=0)"
      ],
      "execution_count": 0,
      "outputs": []
    },
    {
      "cell_type": "code",
      "metadata": {
        "id": "9yN0WlHWF1xn",
        "colab_type": "code",
        "outputId": "522e98e8-cfae-4804-fbe6-505e509f2c7e",
        "colab": {
          "base_uri": "https://localhost:8080/",
          "height": 141
        }
      },
      "source": [
        "#  Import randomforestClassifier\n",
        "random =RandomForestClassifier(max_depth=3, min_samples_split=2, n_estimators=10, random_state=2)\n",
        "#  fitting our train in the model\n",
        "random.fit(X_train,y_train)"
      ],
      "execution_count": 100,
      "outputs": [
        {
          "output_type": "execute_result",
          "data": {
            "text/plain": [
              "RandomForestClassifier(bootstrap=True, class_weight=None, criterion='gini',\n",
              "                       max_depth=3, max_features='auto', max_leaf_nodes=None,\n",
              "                       min_impurity_decrease=0.0, min_impurity_split=None,\n",
              "                       min_samples_leaf=1, min_samples_split=2,\n",
              "                       min_weight_fraction_leaf=0.0, n_estimators=10,\n",
              "                       n_jobs=None, oob_score=False, random_state=2, verbose=0,\n",
              "                       warm_start=False)"
            ]
          },
          "metadata": {
            "tags": []
          },
          "execution_count": 100
        }
      ]
    },
    {
      "cell_type": "code",
      "metadata": {
        "id": "XaeU644uF1jN",
        "colab_type": "code",
        "colab": {}
      },
      "source": [
        "#  predicting  based on the model we  have trained\n",
        "y_pred_random = random.predict(X_test)\n",
        "\n"
      ],
      "execution_count": 0,
      "outputs": []
    },
    {
      "cell_type": "code",
      "metadata": {
        "id": "uKak2vaCF1Ny",
        "colab_type": "code",
        "colab": {}
      },
      "source": [
        "from sklearn.tree import export_graphviz\n",
        "from sklearn.externals.six import StringIO  \n",
        "from IPython.display import Image  \n",
        "import pydotplus\n",
        "\n",
        "dot_data = StringIO()\n",
        "# pick a specific tree from the forest\n",
        "tree = random.estimators_[50]\n",
        "\n",
        "export_graphviz(tree, out_file=dot_data,  \n",
        "                filled=True, rounded=True,\n",
        "                special_characters=True,feature_names = test_features)\n",
        "graph = pydotplus.graph_from_dot_data(dot_data.getvalue())  \n",
        "graph.write_png('hypothyroid_forest.png')\n",
        "Image(graph.create_png())\n"
      ],
      "execution_count": 0,
      "outputs": []
    },
    {
      "cell_type": "code",
      "metadata": {
        "id": "tCpH7yzQF1GT",
        "colab_type": "code",
        "outputId": "ba865b8a-2e86-41de-8470-9a9149d52dff",
        "colab": {
          "base_uri": "https://localhost:8080/",
          "height": 34
        }
      },
      "source": [
        "# computing the accuarcy\n",
        "from sklearn import metrics\n",
        "# Model Accuracy, how often is the classifier correct?\n",
        "print(\"random_Accuracy:\",metrics.accuracy_score(y_test, y_pred_random))\n",
        "\n",
        "# #  the model gave  98.10 accuarcy score  before using parameter to optimize it\n",
        "# before tunning the model gave a lower value interms of accuarcy which was 96.2%"
      ],
      "execution_count": 102,
      "outputs": [
        {
          "output_type": "stream",
          "text": [
            "random_Accuracy: 0.9747235387045814\n"
          ],
          "name": "stdout"
        }
      ]
    },
    {
      "cell_type": "code",
      "metadata": {
        "id": "EGw6IJSFLyoa",
        "colab_type": "code",
        "outputId": "40118f74-f8b7-44e4-f293-e1fa9933b3ee",
        "colab": {
          "base_uri": "https://localhost:8080/",
          "height": 52
        }
      },
      "source": [
        "#  computing the confusion matrix\n",
        "\n",
        "from sklearn import metrics\n",
        "# Model Accuracy, how often is the classifier correct?\n",
        "print(\"Confusion matrrix:\",metrics.confusion_matrix(y_test, y_pred_random))\n",
        "# before parameters my model predicted 621/633 correctly but after using the parameter the number increased to  6/633 correctly\n",
        "# only 12 points were misclassified"
      ],
      "execution_count": 0,
      "outputs": [
        {
          "output_type": "stream",
          "text": [
            "Confusion matrrix: [[602   5]\n",
            " [  7  19]]\n"
          ],
          "name": "stdout"
        }
      ]
    },
    {
      "cell_type": "markdown",
      "metadata": {
        "id": "F55XtB0uOzye",
        "colab_type": "text"
      },
      "source": [
        "* random forest gave us a 95 accuarcy score\n",
        "* Out of the total number of 631 which 20 % sample .\n",
        "* The model was able to predict 617 correectly\n",
        "* The model predicted 604 patients were negative while in the actual they wrere negative.\n",
        "* The model also predicted 13  patients tested postive  while in the actual sense they had it.\n",
        "* The model predicted  16 patients wrongly."
      ]
    },
    {
      "cell_type": "markdown",
      "metadata": {
        "id": "eaEfXKsxQFTE",
        "colab_type": "text"
      },
      "source": [
        "## 3.2 AdaBoosted Tree"
      ]
    },
    {
      "cell_type": "code",
      "metadata": {
        "id": "qtxvRU3GQYOc",
        "colab_type": "code",
        "outputId": "7246eb81-0e7f-477c-9bb6-f552a892f209",
        "colab": {
          "base_uri": "https://localhost:8080/",
          "height": 52
        }
      },
      "source": [
        "#  since had splitted our data to train and test we don't need to split again all we need to go dirctlt to creating our model\n",
        "ada_boost = AdaBoostClassifier(learning_rate=1.0,n_estimators=100,random_state= 20)\n",
        "\n",
        "#  fitting our train set\n",
        "ada_boost.fit(X_train,y_train)\n"
      ],
      "execution_count": 117,
      "outputs": [
        {
          "output_type": "execute_result",
          "data": {
            "text/plain": [
              "AdaBoostClassifier(algorithm='SAMME.R', base_estimator=None, learning_rate=1.0,\n",
              "                   n_estimators=100, random_state=20)"
            ]
          },
          "metadata": {
            "tags": []
          },
          "execution_count": 117
        }
      ]
    },
    {
      "cell_type": "code",
      "metadata": {
        "id": "RJoFS70wQX6N",
        "colab_type": "code",
        "colab": {}
      },
      "source": [
        "#  making prediction based on our X_test set\n",
        "y_pred_ada = ada_boost.predict(X_test)"
      ],
      "execution_count": 0,
      "outputs": []
    },
    {
      "cell_type": "code",
      "metadata": {
        "id": "JAxR0YQuQXok",
        "colab_type": "code",
        "outputId": "f66738a0-dc81-41f2-943c-3535fd1e1a19",
        "colab": {
          "base_uri": "https://localhost:8080/",
          "height": 34
        }
      },
      "source": [
        "\n",
        "from sklearn import metrics\n",
        "# Model Accuracy, how often is the classifier correct?\n",
        "print(\"adaboost_Accuracy:\",metrics.accuracy_score(y_test, y_pred_ada))"
      ],
      "execution_count": 119,
      "outputs": [
        {
          "output_type": "stream",
          "text": [
            "adaboost_Accuracy: 0.981042654028436\n"
          ],
          "name": "stdout"
        }
      ]
    },
    {
      "cell_type": "code",
      "metadata": {
        "id": "CI1ZyaPYSVEQ",
        "colab_type": "code",
        "outputId": "5a9c7fce-9b5f-4d79-8865-f48b71ddad7a",
        "colab": {
          "base_uri": "https://localhost:8080/",
          "height": 52
        }
      },
      "source": [
        "#  computing the confusion matrix\n",
        "\n",
        "from sklearn import metrics\n",
        "# Model Accuracy, how often is the classifier correct?\n",
        "print(\"Confusion matrrix:\",metrics.confusion_matrix(y_test, y_pred_ada))"
      ],
      "execution_count": 0,
      "outputs": [
        {
          "output_type": "stream",
          "text": [
            "Confusion matrrix: [[600   7]\n",
            " [  5  21]]\n"
          ],
          "name": "stdout"
        }
      ]
    },
    {
      "cell_type": "markdown",
      "metadata": {
        "id": "wyu9g39GTL07",
        "colab_type": "text"
      },
      "source": [
        "## 3.3 Gradient Boosted Tree"
      ]
    },
    {
      "cell_type": "code",
      "metadata": {
        "id": "8gYQE5-PTpCZ",
        "colab_type": "code",
        "outputId": "b5721560-e954-43dd-8602-f15e6504760e",
        "colab": {
          "base_uri": "https://localhost:8080/",
          "height": 194
        }
      },
      "source": [
        "#  what we did did on adaBoosting is what we  will  do on Gradient Boosting\n",
        "\n",
        "gradient = GradientBoostingClassifier(learning_rate =0.1,n_estimators=100,max_depth=3,min_samples_split=2) # defining my classifier as  gradient\n",
        "\n",
        "#  fiiting my train in the classifier\n",
        "\n",
        "gradient.fit(X_train,y_train)"
      ],
      "execution_count": 95,
      "outputs": [
        {
          "output_type": "execute_result",
          "data": {
            "text/plain": [
              "GradientBoostingClassifier(criterion='friedman_mse', init=None,\n",
              "                           learning_rate=0.1, loss='deviance', max_depth=3,\n",
              "                           max_features=None, max_leaf_nodes=None,\n",
              "                           min_impurity_decrease=0.0, min_impurity_split=None,\n",
              "                           min_samples_leaf=1, min_samples_split=2,\n",
              "                           min_weight_fraction_leaf=0.0, n_estimators=100,\n",
              "                           n_iter_no_change=None, presort='auto',\n",
              "                           random_state=None, subsample=1.0, tol=0.0001,\n",
              "                           validation_fraction=0.1, verbose=0,\n",
              "                           warm_start=False)"
            ]
          },
          "metadata": {
            "tags": []
          },
          "execution_count": 95
        }
      ]
    },
    {
      "cell_type": "code",
      "metadata": {
        "id": "d_iCWuVDVG_I",
        "colab_type": "code",
        "colab": {}
      },
      "source": [
        "#  making prediction based on wh the model we have created\n",
        "y_pred_gradient = gradient.predict(X_test)"
      ],
      "execution_count": 0,
      "outputs": []
    },
    {
      "cell_type": "code",
      "metadata": {
        "id": "yS-YzFWxV1nO",
        "colab_type": "code",
        "outputId": "8ac7337d-a8cb-43c0-94aa-5b0688962737",
        "colab": {
          "base_uri": "https://localhost:8080/",
          "height": 34
        }
      },
      "source": [
        "#from sklearn import metrics\n",
        "# Model Accuracy, how often is the classifier correct?\n",
        "print(\"gradient_Accuracy:\",metrics.accuracy_score(y_test, y_pred_gradient))\n",
        "# before "
      ],
      "execution_count": 142,
      "outputs": [
        {
          "output_type": "stream",
          "text": [
            "gradient_Accuracy: 0.9842022116903634\n"
          ],
          "name": "stdout"
        }
      ]
    },
    {
      "cell_type": "code",
      "metadata": {
        "id": "fLAV4wphWOio",
        "colab_type": "code",
        "outputId": "a1afb3d4-b33e-4079-fede-a033de2dfa38",
        "colab": {
          "base_uri": "https://localhost:8080/",
          "height": 52
        }
      },
      "source": [
        "#  computing the confusion matrix\n",
        "\n",
        "from sklearn import metrics\n",
        "# Model Accuracy, how often is the classifier correct?\n",
        "print(\"Confusion matrrix:\",metrics.confusion_matrix(y_test, y_pred_gradient))"
      ],
      "execution_count": 144,
      "outputs": [
        {
          "output_type": "stream",
          "text": [
            "Confusion matrrix: [[600   7]\n",
            " [  3  23]]\n"
          ],
          "name": "stdout"
        }
      ]
    },
    {
      "cell_type": "markdown",
      "metadata": {
        "id": "fCxUEcMVWtv_",
        "colab_type": "text"
      },
      "source": [
        "# 4.0 Support Vector Machine(SVM)\n",
        "* Svm is another type of  model that is used mostly for classification especially when working with  features that are highly related.E.g Drug disambiguation\n",
        "* In this task we are suppose to determine whether a patient will test positive or negative when hypothyroid is test.\n",
        "* To determine  this prediction, our data has many faetures that are highly related to  our case study."
      ]
    },
    {
      "cell_type": "code",
      "metadata": {
        "id": "o1yorYMoYWgb",
        "colab_type": "code",
        "colab": {}
      },
      "source": [
        "#  Building SVM model\n",
        "#  i shall use Support vector Classifier(SVC) since am handling a classier problem\n",
        "svm  = SVC(kernel = 'linear',C=1.0,gamma='auto_deprecated',random_state=2)\n",
        "svm_1 = SVC(kernel = 'rbf',C=1.0,gamma='auto_deprecated',random_state=2)\n",
        "\n",
        "# my represented regularization,i used it to show the missiclassification\n",
        "# rbf was used to increase the the dimension"
      ],
      "execution_count": 0,
      "outputs": []
    },
    {
      "cell_type": "code",
      "metadata": {
        "id": "qHI4fWcvaVFj",
        "colab_type": "code",
        "outputId": "022de563-1d1b-4cc9-aadc-ed914def8dfc",
        "colab": {
          "base_uri": "https://localhost:8080/",
          "height": 143
        }
      },
      "source": [
        "#  fitting the train into the nodel\n",
        "svm.fit(X_train,y_train)\n",
        "svm_1.fit(X_train,y_train)\n"
      ],
      "execution_count": 139,
      "outputs": [
        {
          "output_type": "stream",
          "text": [
            "/usr/local/lib/python3.6/dist-packages/sklearn/svm/base.py:193: FutureWarning: The default value of gamma will change from 'auto' to 'scale' in version 0.22 to account better for unscaled features. Set gamma explicitly to 'auto' or 'scale' to avoid this warning.\n",
            "  \"avoid this warning.\", FutureWarning)\n"
          ],
          "name": "stderr"
        },
        {
          "output_type": "execute_result",
          "data": {
            "text/plain": [
              "SVC(C=1.0, cache_size=200, class_weight=None, coef0=0.0,\n",
              "    decision_function_shape='ovr', degree=3, gamma='auto_deprecated',\n",
              "    kernel='rbf', max_iter=-1, probability=False, random_state=2,\n",
              "    shrinking=True, tol=0.001, verbose=False)"
            ]
          },
          "metadata": {
            "tags": []
          },
          "execution_count": 139
        }
      ]
    },
    {
      "cell_type": "code",
      "metadata": {
        "id": "if6GG5BVaUxQ",
        "colab_type": "code",
        "colab": {}
      },
      "source": [
        "# making prediction\n",
        "y_pred_svc = svm.predict(X_test)\n",
        "y_pred_svc_1 = svm_1.predict(X_test)"
      ],
      "execution_count": 0,
      "outputs": []
    },
    {
      "cell_type": "code",
      "metadata": {
        "id": "eAd9oJnVaUez",
        "colab_type": "code",
        "colab": {
          "base_uri": "https://localhost:8080/",
          "height": 52
        },
        "outputId": "b15ff2ff-50c1-4b9e-bd55-3b34d1b21e34"
      },
      "source": [
        "\n",
        "from sklearn import metrics\n",
        "# Model Accuracy, how often is the classifier correct?\n",
        "print(\"svc_Accuracy with linear karnel:\",metrics.accuracy_score(y_test, y_pred_svc))\n",
        "# before \n",
        "print(\"svc_1_Accuracy with rbf karnel:\",metrics.accuracy_score(y_test, y_pred_svc))"
      ],
      "execution_count": 141,
      "outputs": [
        {
          "output_type": "stream",
          "text": [
            "svc_Accuracy with linear karnel: 0.976303317535545\n",
            "svc_1_Accuracy with rbf karnel: 0.976303317535545\n"
          ],
          "name": "stdout"
        }
      ]
    },
    {
      "cell_type": "markdown",
      "metadata": {
        "id": "CHzqUdLkdIAA",
        "colab_type": "text"
      },
      "source": [
        "* Before  using parameters the model gave an accuracy of  97.63 %"
      ]
    },
    {
      "cell_type": "code",
      "metadata": {
        "id": "kf0oVIwAbwvq",
        "colab_type": "code",
        "colab": {
          "base_uri": "https://localhost:8080/",
          "height": 52
        },
        "outputId": "efce8e81-3bd2-43e7-c68a-a94ff0e4235c"
      },
      "source": [
        "#  computing the confusion matrix\n",
        "\n",
        "from sklearn import metrics\n",
        "# Model Accuracy, how often is the classifier correct?\n",
        "print(\"Confusion matrrix:\",metrics.confusion_matrix(y_test, y_pred_svc))"
      ],
      "execution_count": 39,
      "outputs": [
        {
          "output_type": "stream",
          "text": [
            "Confusion matrrix: [[601   6]\n",
            " [  9  17]]\n"
          ],
          "name": "stdout"
        }
      ]
    },
    {
      "cell_type": "code",
      "metadata": {
        "id": "Xrxwk1T_rK1h",
        "colab_type": "code",
        "colab": {
          "base_uri": "https://localhost:8080/",
          "height": 1000
        },
        "outputId": "cefce254-b0b1-4751-bece-1c66cbc8dead"
      },
      "source": [
        "importance = random.feature_importances_\n",
        "names = X.columns\n",
        "random_1 ={}\n",
        "for name ,imp in zip(names,importance):\n",
        "  random_1[name]= imp\n",
        "random_1\n",
        "from collections import OrderedDict\n",
        "OrderedDict(sorted(random_1.items(),key =lambda x:x[1],reverse=True))\n",
        "# the top three variables that affected our model were TT4,FTI and TSH"
      ],
      "execution_count": 105,
      "outputs": [
        {
          "output_type": "execute_result",
          "data": {
            "text/plain": [
              "OrderedDict([('TT4', 0.3430984339588684),\n",
              "             ('FTI', 0.2897183293767405),\n",
              "             ('TSH', 0.09397986217688785),\n",
              "             ('T3', 0.0929790959620722),\n",
              "             ('query_hypothyroid_t', 0.04173094879434944),\n",
              "             ('age', 0.027695063589511303),\n",
              "             ('TBG_measured_n', 0.02704160766245988),\n",
              "             ('T3_measured_y', 0.022356290388295272),\n",
              "             ('TSH_measured_y', 0.01635505047483484),\n",
              "             ('T4U', 0.016203545817568717),\n",
              "             ('TT4_measured_y', 0.00657913146020257),\n",
              "             ('TBG_measured_y', 0.006021795408828595),\n",
              "             ('thyroid_surgery_t', 0.005849386882935441),\n",
              "             ('TSH_measured_n', 0.004048249715711423),\n",
              "             ('sex_M', 0.003903066284799447),\n",
              "             ('query_on_thyroxine_t', 0.001087910319313352),\n",
              "             ('on_thyroxine_f', 0.0007133695762925885),\n",
              "             ('thyroid_surgery_f', 0.00046385355747903306),\n",
              "             ('sick_t', 0.00017118467698896522),\n",
              "             ('TBG_28', 3.542992514679482e-06),\n",
              "             ('query_hyperthyroid_t', 2.809233455080178e-07),\n",
              "             ('sex_F', 0.0),\n",
              "             ('on_thyroxine_t', 0.0),\n",
              "             ('query_on_thyroxine_f', 0.0),\n",
              "             ('on_antithyroid_medication_f', 0.0),\n",
              "             ('on_antithyroid_medication_t', 0.0),\n",
              "             ('query_hypothyroid_f', 0.0),\n",
              "             ('query_hyperthyroid_f', 0.0),\n",
              "             ('pregnant_f', 0.0),\n",
              "             ('pregnant_t', 0.0),\n",
              "             ('sick_f', 0.0),\n",
              "             ('tumor_f', 0.0),\n",
              "             ('tumor_t', 0.0),\n",
              "             ('lithium_f', 0.0),\n",
              "             ('lithium_t', 0.0),\n",
              "             ('goitre_f', 0.0),\n",
              "             ('goitre_t', 0.0),\n",
              "             ('T3_measured_n', 0.0),\n",
              "             ('TT4_measured_n', 0.0),\n",
              "             ('T4U_measured_n', 0.0),\n",
              "             ('T4U_measured_y', 0.0),\n",
              "             ('FTI_measured_n', 0.0),\n",
              "             ('FTI_measured_y', 0.0),\n",
              "             ('TBG_0', 0.0),\n",
              "             ('TBG_108', 0.0),\n",
              "             ('TBG_11', 0.0),\n",
              "             ('TBG_110', 0.0),\n",
              "             ('TBG_12', 0.0),\n",
              "             ('TBG_122', 0.0),\n",
              "             ('TBG_13', 0.0),\n",
              "             ('TBG_14', 0.0),\n",
              "             ('TBG_15', 0.0),\n",
              "             ('TBG_16', 0.0),\n",
              "             ('TBG_17', 0.0),\n",
              "             ('TBG_18', 0.0),\n",
              "             ('TBG_19', 0.0),\n",
              "             ('TBG_20', 0.0),\n",
              "             ('TBG_21', 0.0),\n",
              "             ('TBG_22', 0.0),\n",
              "             ('TBG_23', 0.0),\n",
              "             ('TBG_24', 0.0),\n",
              "             ('TBG_25', 0.0),\n",
              "             ('TBG_26', 0.0),\n",
              "             ('TBG_27', 0.0),\n",
              "             ('TBG_29', 0.0),\n",
              "             ('TBG_3.10', 0.0),\n",
              "             ('TBG_30', 0.0),\n",
              "             ('TBG_31', 0.0),\n",
              "             ('TBG_32', 0.0),\n",
              "             ('TBG_33', 0.0),\n",
              "             ('TBG_34', 0.0),\n",
              "             ('TBG_35', 0.0),\n",
              "             ('TBG_36', 0.0),\n",
              "             ('TBG_37', 0.0),\n",
              "             ('TBG_38', 0.0),\n",
              "             ('TBG_39', 0.0),\n",
              "             ('TBG_40', 0.0),\n",
              "             ('TBG_41', 0.0),\n",
              "             ('TBG_43', 0.0),\n",
              "             ('TBG_45', 0.0),\n",
              "             ('TBG_47', 0.0),\n",
              "             ('TBG_48', 0.0),\n",
              "             ('TBG_50', 0.0),\n",
              "             ('TBG_52', 0.0),\n",
              "             ('TBG_53', 0.0),\n",
              "             ('TBG_63', 0.0),\n",
              "             ('TBG_65', 0.0),\n",
              "             ('TBG_69', 0.0),\n",
              "             ('TBG_7.30', 0.0),\n",
              "             ('TBG_8.40', 0.0),\n",
              "             ('TBG_8.50', 0.0),\n",
              "             ('TBG_80', 0.0),\n",
              "             ('TBG_86', 0.0),\n",
              "             ('TBG_9.30', 0.0)])"
            ]
          },
          "metadata": {
            "tags": []
          },
          "execution_count": 105
        }
      ]
    },
    {
      "cell_type": "code",
      "metadata": {
        "id": "xBYydVAXrNo8",
        "colab_type": "code",
        "colab": {
          "base_uri": "https://localhost:8080/",
          "height": 123
        },
        "outputId": "2752ec0d-0898-4619-8a78-6148d154ee75"
      },
      "source": [
        " # A summary of my accuracy score for different models that i used\n",
        "print(\"Decison_Accuracy:\",metrics.accuracy_score(y_test, y_pred_decision))  \n",
        "print(\"random_Accuracy:\",metrics.accuracy_score(y_test, y_pred_random))  \n",
        "print(\"adaboost_Accuracy:\",metrics.accuracy_score(y_test, y_pred_ada))\n",
        "print(\"gradient_Accuracy:\",metrics.accuracy_score(y_test, y_pred_gradient))\n",
        "print(\"svc_Accuracy with linear karnel:\",metrics.accuracy_score(y_test, y_pred_svc)) \n",
        "print(\"svc_1_Accuracy with rbf karnel:\",metrics.accuracy_score(y_test, y_pred_svc))"
      ],
      "execution_count": 143,
      "outputs": [
        {
          "output_type": "stream",
          "text": [
            "Decison_Accuracy: 0.9873617693522907\n",
            "random_Accuracy: 0.9747235387045814\n",
            "adaboost_Accuracy: 0.981042654028436\n",
            "gradient_Accuracy: 0.9842022116903634\n",
            "svc_Accuracy with linear karnel: 0.976303317535545\n",
            "svc_1_Accuracy with rbf karnel: 0.976303317535545\n"
          ],
          "name": "stdout"
        }
      ]
    },
    {
      "cell_type": "code",
      "metadata": {
        "id": "uu-SZ_AANzdb",
        "colab_type": "code",
        "colab": {}
      },
      "source": [
        ""
      ],
      "execution_count": 0,
      "outputs": []
    },
    {
      "cell_type": "markdown",
      "metadata": {
        "id": "UEZFkD6yOqy_",
        "colab_type": "text"
      },
      "source": [
        "# Summary\n",
        " I used different Model to test and predict a negative or positive\n",
        " The model that worked best in this data set was  gradient Boost since it had a high accuarcy.\n",
        " The model was able to predict 623/633 correctly.\n",
        " \n",
        " Only 10 points were misclassified.\n",
        " In as  much we have taken Gradient Boosting as our model  to use, I can conclusively say that  all the model I usd conformed to the Metrics since they gave me an Accuracy of more than 95%"
      ]
    },
    {
      "cell_type": "markdown",
      "metadata": {
        "id": "lU9k7hnVP1JK",
        "colab_type": "text"
      },
      "source": [
        "# Fitness of the Dataset.\n",
        "\n",
        " Since our dataset contained null values in form of ? it was to tell whether the ? was null value\n"
      ]
    }
  ]
}